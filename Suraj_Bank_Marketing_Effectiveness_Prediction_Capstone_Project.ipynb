{
  "nbformat": 4,
  "nbformat_minor": 0,
  "metadata": {
    "colab": {
      "name": "Suraj Bank Marketing Effectiveness Prediction - Capstone Project.ipynb",
      "provenance": [],
      "collapsed_sections": [],
      "include_colab_link": true
    },
    "kernelspec": {
      "display_name": "Python 3",
      "language": "python",
      "name": "python3"
    },
    "language_info": {
      "codemirror_mode": {
        "name": "ipython",
        "version": 3
      },
      "file_extension": ".py",
      "mimetype": "text/x-python",
      "name": "python",
      "nbconvert_exporter": "python",
      "pygments_lexer": "ipython3",
      "version": "3.6.6"
    }
  },
  "cells": [
    {
      "cell_type": "markdown",
      "metadata": {
        "id": "view-in-github",
        "colab_type": "text"
      },
      "source": [
        "<a href=\"https://colab.research.google.com/github/sagarrokad1/Speech-Emotion-Recognition/blob/main/Suraj_Bank_Marketing_Effectiveness_Prediction_Capstone_Project.ipynb\" target=\"_parent\"><img src=\"https://colab.research.google.com/assets/colab-badge.svg\" alt=\"Open In Colab\"/></a>"
      ]
    },
    {
      "cell_type": "markdown",
      "metadata": {
        "id": "tOGC-qoyhJeX"
      },
      "source": [
        "# <b><u> Project Title : Predicting the effectiveness of bank marketing campaigns </u></b>"
      ]
    },
    {
      "cell_type": "markdown",
      "metadata": {
        "id": "Y06xIdG26kRF"
      },
      "source": [
        "## <b> Problem Description </b>\n",
        "\n",
        "### The data is related with direct marketing campaigns (phone calls) of a Portuguese banking institution. The marketing campaigns were based on phone calls. Often, more than one contact to the same client was required, in order to access if the product (bank term deposit) would be ('yes') or not ('no') subscribed. The classification goal is to predict if the client will subscribe a term deposit (variable y).\n"
      ]
    },
    {
      "cell_type": "markdown",
      "metadata": {
        "id": "AlLxAtlziMbP"
      },
      "source": [
        "## <b> Data Description </b>\n",
        "\n",
        "## <b>Input variables: </b>\n",
        "### <b> Bank Client data: </b>\n",
        "\n",
        "* ### age (numeric)\n",
        "* ### job : type of job (categorical: 'admin.','blue-collar','entrepreneur','housemaid','management','retired','self-employed','services','student','technician','unemployed','unknown')\n",
        "* ### marital : marital status (categorical: 'divorced','married','single','unknown'; note: 'divorced' means divorced or widowed)\n",
        "* ### education (categorical: 'basic.4y','basic.6y','basic.9y','high.school','illiterate','professional.course','university.degree','unknown')\n",
        "* ### default: has credit in default? (categorical: 'no','yes','unknown')\n",
        "* ### housing: has housing loan? (categorical: 'no','yes','unknown')\n",
        "* ### loan: has personal loan? (categorical: 'no','yes','unknown')\n",
        "\n",
        "### <b> Related with the last contact of the current campaign:</b>\n",
        "* ### contact: contact communication type (categorical: 'cellular','telephone')\n",
        "* ### month: last contact month of year (categorical: 'jan', 'feb', 'mar', ..., 'nov', 'dec')\n",
        "* ### day_of_week: last contact day of the week (categorical: 'mon','tue','wed','thu','fri')\n",
        "* ### duration: last contact duration, in seconds (numeric). Important note: this attribute highly affects the output target (e.g., if duration=0 then y='no'). Yet, the duration is not known before a call is performed. Also, after the end of the call y is obviously known. Thus, this input should only be included for benchmark purposes and should be discarded if the intention is to have a realistic predictive model.\n",
        "\n",
        "### <b>Other attributes: </b>\n",
        "* ### campaign: number of contacts performed during this campaign and for this client (numeric, includes last contact)\n",
        "* ### pdays: number of days that passed by after the client was last contacted from a previous campaign (numeric; 999 means client was not previously contacted)\n",
        "* ### previous: number of contacts performed before this campaign and for this client (numeric)\n",
        "* ### poutcome: outcome of the previous marketing campaign (categorical: 'failure','nonexistent','success')\n",
        "\n",
        "\n",
        "### <b>Output variable (desired target):</b>\n",
        "* ### y - has the client subscribed a term deposit? (binary: 'yes','no')"
      ]
    },
    {
      "cell_type": "markdown",
      "metadata": {
        "id": "7Lv_im13hMpi"
      },
      "source": [
        "# **Importing libraries**"
      ]
    },
    {
      "cell_type": "code",
      "metadata": {
        "id": "Z2inJVY3iJ3e"
      },
      "source": [
        "#importing libraries\n",
        "import numpy as np\n",
        "import pandas as pd\n",
        "import matplotlib.pyplot as plt\n",
        "import seaborn as sns \n",
        "import warnings\n",
        "warnings.filterwarnings('ignore')\n",
        "from sklearn.preprocessing import LabelEncoder\n",
        "from sklearn.preprocessing import OneHotEncoder\n",
        "from sklearn.model_selection import train_test_split\n",
        "from sklearn.preprocessing import OneHotEncoder\n",
        "from sklearn.preprocessing import Normalizer\n",
        "from sklearn.preprocessing import MinMaxScaler\n",
        "from sklearn.preprocessing import StandardScaler\n",
        "from sklearn.model_selection import RandomizedSearchCV\n",
        "from sklearn.metrics import roc_auc_score\n",
        "from sklearn.metrics import accuracy_score\n",
        "from sklearn.linear_model import SGDClassifier\n",
        "from sklearn.linear_model import LogisticRegression\n",
        "from sklearn.ensemble import RandomForestClassifier\n",
        "from sklearn.tree import DecisionTreeClassifier\n",
        "from sklearn.metrics import roc_curve\n",
        "from sklearn.metrics import log_loss\n",
        "from sklearn.metrics import classification_report\n",
        "\n",
        "from collections import Counter\n",
        "from xgboost import XGBClassifier\n",
        "\n",
        "from imblearn.combine import SMOTETomek\n",
        "from sklearn.neighbors import KNeighborsClassifier"
      ],
      "execution_count": null,
      "outputs": []
    },
    {
      "cell_type": "code",
      "metadata": {
        "colab": {
          "base_uri": "https://localhost:8080/"
        },
        "id": "mKFlmnPB6uNl",
        "outputId": "f913a3fd-5d69-49c6-8b08-f2722324ac7b"
      },
      "source": [
        "#mounting drive\n",
        "from google.colab import drive\n",
        "drive.mount('/content/drive')"
      ],
      "execution_count": null,
      "outputs": [
        {
          "output_type": "stream",
          "text": [
            "Mounted at /content/drive\n"
          ],
          "name": "stdout"
        }
      ]
    },
    {
      "cell_type": "code",
      "metadata": {
        "id": "59V-wG_TEFTt"
      },
      "source": [
        "#importing banking dataset\n",
        "bank_df= pd.read_csv('/content/bank-full (1).csv',delimiter=';')"
      ],
      "execution_count": null,
      "outputs": []
    },
    {
      "cell_type": "code",
      "metadata": {
        "colab": {
          "base_uri": "https://localhost:8080/",
          "height": 205
        },
        "id": "TK4I3xYH8L5b",
        "outputId": "5f03267f-9a72-4206-a295-a3d1db4745dc"
      },
      "source": [
        "bank_df.head()"
      ],
      "execution_count": null,
      "outputs": [
        {
          "output_type": "execute_result",
          "data": {
            "text/html": [
              "<div>\n",
              "<style scoped>\n",
              "    .dataframe tbody tr th:only-of-type {\n",
              "        vertical-align: middle;\n",
              "    }\n",
              "\n",
              "    .dataframe tbody tr th {\n",
              "        vertical-align: top;\n",
              "    }\n",
              "\n",
              "    .dataframe thead th {\n",
              "        text-align: right;\n",
              "    }\n",
              "</style>\n",
              "<table border=\"1\" class=\"dataframe\">\n",
              "  <thead>\n",
              "    <tr style=\"text-align: right;\">\n",
              "      <th></th>\n",
              "      <th>age</th>\n",
              "      <th>job</th>\n",
              "      <th>marital</th>\n",
              "      <th>education</th>\n",
              "      <th>default</th>\n",
              "      <th>balance</th>\n",
              "      <th>housing</th>\n",
              "      <th>loan</th>\n",
              "      <th>contact</th>\n",
              "      <th>day</th>\n",
              "      <th>month</th>\n",
              "      <th>duration</th>\n",
              "      <th>campaign</th>\n",
              "      <th>pdays</th>\n",
              "      <th>previous</th>\n",
              "      <th>poutcome</th>\n",
              "      <th>y</th>\n",
              "    </tr>\n",
              "  </thead>\n",
              "  <tbody>\n",
              "    <tr>\n",
              "      <th>0</th>\n",
              "      <td>58</td>\n",
              "      <td>management</td>\n",
              "      <td>married</td>\n",
              "      <td>tertiary</td>\n",
              "      <td>no</td>\n",
              "      <td>2143</td>\n",
              "      <td>yes</td>\n",
              "      <td>no</td>\n",
              "      <td>unknown</td>\n",
              "      <td>5</td>\n",
              "      <td>may</td>\n",
              "      <td>261</td>\n",
              "      <td>1</td>\n",
              "      <td>-1</td>\n",
              "      <td>0</td>\n",
              "      <td>unknown</td>\n",
              "      <td>no</td>\n",
              "    </tr>\n",
              "    <tr>\n",
              "      <th>1</th>\n",
              "      <td>44</td>\n",
              "      <td>technician</td>\n",
              "      <td>single</td>\n",
              "      <td>secondary</td>\n",
              "      <td>no</td>\n",
              "      <td>29</td>\n",
              "      <td>yes</td>\n",
              "      <td>no</td>\n",
              "      <td>unknown</td>\n",
              "      <td>5</td>\n",
              "      <td>may</td>\n",
              "      <td>151</td>\n",
              "      <td>1</td>\n",
              "      <td>-1</td>\n",
              "      <td>0</td>\n",
              "      <td>unknown</td>\n",
              "      <td>no</td>\n",
              "    </tr>\n",
              "    <tr>\n",
              "      <th>2</th>\n",
              "      <td>33</td>\n",
              "      <td>entrepreneur</td>\n",
              "      <td>married</td>\n",
              "      <td>secondary</td>\n",
              "      <td>no</td>\n",
              "      <td>2</td>\n",
              "      <td>yes</td>\n",
              "      <td>yes</td>\n",
              "      <td>unknown</td>\n",
              "      <td>5</td>\n",
              "      <td>may</td>\n",
              "      <td>76</td>\n",
              "      <td>1</td>\n",
              "      <td>-1</td>\n",
              "      <td>0</td>\n",
              "      <td>unknown</td>\n",
              "      <td>no</td>\n",
              "    </tr>\n",
              "    <tr>\n",
              "      <th>3</th>\n",
              "      <td>47</td>\n",
              "      <td>blue-collar</td>\n",
              "      <td>married</td>\n",
              "      <td>unknown</td>\n",
              "      <td>no</td>\n",
              "      <td>1506</td>\n",
              "      <td>yes</td>\n",
              "      <td>no</td>\n",
              "      <td>unknown</td>\n",
              "      <td>5</td>\n",
              "      <td>may</td>\n",
              "      <td>92</td>\n",
              "      <td>1</td>\n",
              "      <td>-1</td>\n",
              "      <td>0</td>\n",
              "      <td>unknown</td>\n",
              "      <td>no</td>\n",
              "    </tr>\n",
              "    <tr>\n",
              "      <th>4</th>\n",
              "      <td>33</td>\n",
              "      <td>unknown</td>\n",
              "      <td>single</td>\n",
              "      <td>unknown</td>\n",
              "      <td>no</td>\n",
              "      <td>1</td>\n",
              "      <td>no</td>\n",
              "      <td>no</td>\n",
              "      <td>unknown</td>\n",
              "      <td>5</td>\n",
              "      <td>may</td>\n",
              "      <td>198</td>\n",
              "      <td>1</td>\n",
              "      <td>-1</td>\n",
              "      <td>0</td>\n",
              "      <td>unknown</td>\n",
              "      <td>no</td>\n",
              "    </tr>\n",
              "  </tbody>\n",
              "</table>\n",
              "</div>"
            ],
            "text/plain": [
              "   age           job  marital  education  ... pdays  previous poutcome   y\n",
              "0   58    management  married   tertiary  ...    -1         0  unknown  no\n",
              "1   44    technician   single  secondary  ...    -1         0  unknown  no\n",
              "2   33  entrepreneur  married  secondary  ...    -1         0  unknown  no\n",
              "3   47   blue-collar  married    unknown  ...    -1         0  unknown  no\n",
              "4   33       unknown   single    unknown  ...    -1         0  unknown  no\n",
              "\n",
              "[5 rows x 17 columns]"
            ]
          },
          "metadata": {
            "tags": []
          },
          "execution_count": 4
        }
      ]
    },
    {
      "cell_type": "code",
      "metadata": {
        "colab": {
          "base_uri": "https://localhost:8080/"
        },
        "id": "CKky5PtRgO0_",
        "outputId": "05b07c65-cc62-4a19-cb8d-0d8349da228b"
      },
      "source": [
        "#important info\n",
        "bank_df.info()"
      ],
      "execution_count": null,
      "outputs": [
        {
          "output_type": "stream",
          "text": [
            "<class 'pandas.core.frame.DataFrame'>\n",
            "RangeIndex: 45211 entries, 0 to 45210\n",
            "Data columns (total 17 columns):\n",
            " #   Column     Non-Null Count  Dtype \n",
            "---  ------     --------------  ----- \n",
            " 0   age        45211 non-null  int64 \n",
            " 1   job        45211 non-null  object\n",
            " 2   marital    45211 non-null  object\n",
            " 3   education  45211 non-null  object\n",
            " 4   default    45211 non-null  object\n",
            " 5   balance    45211 non-null  int64 \n",
            " 6   housing    45211 non-null  object\n",
            " 7   loan       45211 non-null  object\n",
            " 8   contact    45211 non-null  object\n",
            " 9   day        45211 non-null  int64 \n",
            " 10  month      45211 non-null  object\n",
            " 11  duration   45211 non-null  int64 \n",
            " 12  campaign   45211 non-null  int64 \n",
            " 13  pdays      45211 non-null  int64 \n",
            " 14  previous   45211 non-null  int64 \n",
            " 15  poutcome   45211 non-null  object\n",
            " 16  y          45211 non-null  object\n",
            "dtypes: int64(7), object(10)\n",
            "memory usage: 5.9+ MB\n"
          ],
          "name": "stdout"
        }
      ]
    },
    {
      "cell_type": "markdown",
      "metadata": {
        "id": "S2fPLn_Q_nLY"
      },
      "source": [
        " **From the above info we cas say that there is no null value in our dataset**"
      ]
    },
    {
      "cell_type": "code",
      "metadata": {
        "colab": {
          "base_uri": "https://localhost:8080/",
          "height": 298
        },
        "id": "AEraCvUSgddo",
        "outputId": "f917c906-5a2c-44c9-f29b-3c7e20229859"
      },
      "source": [
        "# some important statistical description of feature in our dataset\n",
        "bank_df.describe()"
      ],
      "execution_count": null,
      "outputs": [
        {
          "output_type": "execute_result",
          "data": {
            "text/html": [
              "<div>\n",
              "<style scoped>\n",
              "    .dataframe tbody tr th:only-of-type {\n",
              "        vertical-align: middle;\n",
              "    }\n",
              "\n",
              "    .dataframe tbody tr th {\n",
              "        vertical-align: top;\n",
              "    }\n",
              "\n",
              "    .dataframe thead th {\n",
              "        text-align: right;\n",
              "    }\n",
              "</style>\n",
              "<table border=\"1\" class=\"dataframe\">\n",
              "  <thead>\n",
              "    <tr style=\"text-align: right;\">\n",
              "      <th></th>\n",
              "      <th>age</th>\n",
              "      <th>balance</th>\n",
              "      <th>day</th>\n",
              "      <th>duration</th>\n",
              "      <th>campaign</th>\n",
              "      <th>pdays</th>\n",
              "      <th>previous</th>\n",
              "    </tr>\n",
              "  </thead>\n",
              "  <tbody>\n",
              "    <tr>\n",
              "      <th>count</th>\n",
              "      <td>45211.000000</td>\n",
              "      <td>45211.000000</td>\n",
              "      <td>45211.000000</td>\n",
              "      <td>45211.000000</td>\n",
              "      <td>45211.000000</td>\n",
              "      <td>45211.000000</td>\n",
              "      <td>45211.000000</td>\n",
              "    </tr>\n",
              "    <tr>\n",
              "      <th>mean</th>\n",
              "      <td>40.936210</td>\n",
              "      <td>1362.272058</td>\n",
              "      <td>15.806419</td>\n",
              "      <td>258.163080</td>\n",
              "      <td>2.763841</td>\n",
              "      <td>40.197828</td>\n",
              "      <td>0.580323</td>\n",
              "    </tr>\n",
              "    <tr>\n",
              "      <th>std</th>\n",
              "      <td>10.618762</td>\n",
              "      <td>3044.765829</td>\n",
              "      <td>8.322476</td>\n",
              "      <td>257.527812</td>\n",
              "      <td>3.098021</td>\n",
              "      <td>100.128746</td>\n",
              "      <td>2.303441</td>\n",
              "    </tr>\n",
              "    <tr>\n",
              "      <th>min</th>\n",
              "      <td>18.000000</td>\n",
              "      <td>-8019.000000</td>\n",
              "      <td>1.000000</td>\n",
              "      <td>0.000000</td>\n",
              "      <td>1.000000</td>\n",
              "      <td>-1.000000</td>\n",
              "      <td>0.000000</td>\n",
              "    </tr>\n",
              "    <tr>\n",
              "      <th>25%</th>\n",
              "      <td>33.000000</td>\n",
              "      <td>72.000000</td>\n",
              "      <td>8.000000</td>\n",
              "      <td>103.000000</td>\n",
              "      <td>1.000000</td>\n",
              "      <td>-1.000000</td>\n",
              "      <td>0.000000</td>\n",
              "    </tr>\n",
              "    <tr>\n",
              "      <th>50%</th>\n",
              "      <td>39.000000</td>\n",
              "      <td>448.000000</td>\n",
              "      <td>16.000000</td>\n",
              "      <td>180.000000</td>\n",
              "      <td>2.000000</td>\n",
              "      <td>-1.000000</td>\n",
              "      <td>0.000000</td>\n",
              "    </tr>\n",
              "    <tr>\n",
              "      <th>75%</th>\n",
              "      <td>48.000000</td>\n",
              "      <td>1428.000000</td>\n",
              "      <td>21.000000</td>\n",
              "      <td>319.000000</td>\n",
              "      <td>3.000000</td>\n",
              "      <td>-1.000000</td>\n",
              "      <td>0.000000</td>\n",
              "    </tr>\n",
              "    <tr>\n",
              "      <th>max</th>\n",
              "      <td>95.000000</td>\n",
              "      <td>102127.000000</td>\n",
              "      <td>31.000000</td>\n",
              "      <td>4918.000000</td>\n",
              "      <td>63.000000</td>\n",
              "      <td>871.000000</td>\n",
              "      <td>275.000000</td>\n",
              "    </tr>\n",
              "  </tbody>\n",
              "</table>\n",
              "</div>"
            ],
            "text/plain": [
              "                age        balance  ...         pdays      previous\n",
              "count  45211.000000   45211.000000  ...  45211.000000  45211.000000\n",
              "mean      40.936210    1362.272058  ...     40.197828      0.580323\n",
              "std       10.618762    3044.765829  ...    100.128746      2.303441\n",
              "min       18.000000   -8019.000000  ...     -1.000000      0.000000\n",
              "25%       33.000000      72.000000  ...     -1.000000      0.000000\n",
              "50%       39.000000     448.000000  ...     -1.000000      0.000000\n",
              "75%       48.000000    1428.000000  ...     -1.000000      0.000000\n",
              "max       95.000000  102127.000000  ...    871.000000    275.000000\n",
              "\n",
              "[8 rows x 7 columns]"
            ]
          },
          "metadata": {
            "tags": []
          },
          "execution_count": 6
        }
      ]
    },
    {
      "cell_type": "code",
      "metadata": {
        "colab": {
          "base_uri": "https://localhost:8080/",
          "height": 388
        },
        "id": "3k_-p7S0X_-X",
        "outputId": "71dc77a5-ba5c-4fe1-865f-a5fa9a22448c"
      },
      "source": [
        "# visualizing the total no.of client who has subcribed\n",
        "plt.figure(figsize=(10,6))\n",
        "sns.countplot(bank_df['y'])\n",
        "plt.show()"
      ],
      "execution_count": null,
      "outputs": [
        {
          "output_type": "display_data",
          "data": {
            "image/png": "[encoded data removed]",
            "text/plain": [
              "<Figure size 720x432 with 1 Axes>"
            ]
          },
          "metadata": {
            "tags": [],
            "needs_background": "light"
          }
        }
      ]
    },
    {
      "cell_type": "markdown",
      "metadata": {
        "id": "_yCJSqfXXMNa"
      },
      "source": [
        "## **From the above count plot we can see that only around 10% has subscribed the term deposit**"
      ]
    },
    {
      "cell_type": "markdown",
      "metadata": {
        "id": "jswqRJBOv74i"
      },
      "source": [
        "# **EDA on Dataset**"
      ]
    },
    {
      "cell_type": "code",
      "metadata": {
        "colab": {
          "base_uri": "https://localhost:8080/"
        },
        "id": "CsLG8OoagmtU",
        "outputId": "d50bb826-ead3-461e-ae5c-852cae2f8eea"
      },
      "source": [
        "#unique sub attributes of a job column\n",
        "bank_df['job'].unique()"
      ],
      "execution_count": null,
      "outputs": [
        {
          "output_type": "execute_result",
          "data": {
            "text/plain": [
              "array(['management', 'technician', 'entrepreneur', 'blue-collar',\n",
              "       'unknown', 'retired', 'admin.', 'services', 'self-employed',\n",
              "       'unemployed', 'housemaid', 'student'], dtype=object)"
            ]
          },
          "metadata": {},
          "execution_count": 5
        }
      ]
    },
    {
      "cell_type": "code",
      "metadata": {
        "colab": {
          "base_uri": "https://localhost:8080/"
        },
        "id": "JvnvtRIxik5p",
        "outputId": "0afa71e5-c1d5-40dd-876b-e514a5b02194"
      },
      "source": [
        "#value_counts of sub features of job attribute\n",
        "bank_df['job'].value_counts()"
      ],
      "execution_count": null,
      "outputs": [
        {
          "output_type": "execute_result",
          "data": {
            "text/plain": [
              "blue-collar      9732\n",
              "management       9458\n",
              "technician       7597\n",
              "admin.           5171\n",
              "services         4154\n",
              "retired          2264\n",
              "self-employed    1579\n",
              "entrepreneur     1487\n",
              "unemployed       1303\n",
              "housemaid        1240\n",
              "student           938\n",
              "unknown           288\n",
              "Name: job, dtype: int64"
            ]
          },
          "metadata": {},
          "execution_count": 6
        }
      ]
    },
    {
      "cell_type": "code",
      "metadata": {
        "colab": {
          "base_uri": "https://localhost:8080/",
          "height": 205
        },
        "id": "YeYPnL0AF9CK",
        "outputId": "c4ccca25-11cd-48ee-d7cc-f4ba2088da01"
      },
      "source": [
        "#converting those categorical columns(default, y) into numeric which have only two different value(yes and no)\n",
        "LE=LabelEncoder()\n",
        "bank_df['default']=LE.fit_transform(bank_df['default'])\n",
        "bank_df['y']=LE.fit_transform(bank_df['y'])\n",
        "bank_df.head()"
      ],
      "execution_count": null,
      "outputs": [
        {
          "output_type": "execute_result",
          "data": {
            "text/html": [
              "<div>\n",
              "<style scoped>\n",
              "    .dataframe tbody tr th:only-of-type {\n",
              "        vertical-align: middle;\n",
              "    }\n",
              "\n",
              "    .dataframe tbody tr th {\n",
              "        vertical-align: top;\n",
              "    }\n",
              "\n",
              "    .dataframe thead th {\n",
              "        text-align: right;\n",
              "    }\n",
              "</style>\n",
              "<table border=\"1\" class=\"dataframe\">\n",
              "  <thead>\n",
              "    <tr style=\"text-align: right;\">\n",
              "      <th></th>\n",
              "      <th>age</th>\n",
              "      <th>job</th>\n",
              "      <th>marital</th>\n",
              "      <th>education</th>\n",
              "      <th>default</th>\n",
              "      <th>balance</th>\n",
              "      <th>housing</th>\n",
              "      <th>loan</th>\n",
              "      <th>contact</th>\n",
              "      <th>day</th>\n",
              "      <th>month</th>\n",
              "      <th>duration</th>\n",
              "      <th>campaign</th>\n",
              "      <th>pdays</th>\n",
              "      <th>previous</th>\n",
              "      <th>poutcome</th>\n",
              "      <th>y</th>\n",
              "    </tr>\n",
              "  </thead>\n",
              "  <tbody>\n",
              "    <tr>\n",
              "      <th>0</th>\n",
              "      <td>58</td>\n",
              "      <td>management</td>\n",
              "      <td>married</td>\n",
              "      <td>tertiary</td>\n",
              "      <td>0</td>\n",
              "      <td>2143</td>\n",
              "      <td>yes</td>\n",
              "      <td>no</td>\n",
              "      <td>unknown</td>\n",
              "      <td>5</td>\n",
              "      <td>may</td>\n",
              "      <td>261</td>\n",
              "      <td>1</td>\n",
              "      <td>-1</td>\n",
              "      <td>0</td>\n",
              "      <td>unknown</td>\n",
              "      <td>0</td>\n",
              "    </tr>\n",
              "    <tr>\n",
              "      <th>1</th>\n",
              "      <td>44</td>\n",
              "      <td>technician</td>\n",
              "      <td>single</td>\n",
              "      <td>secondary</td>\n",
              "      <td>0</td>\n",
              "      <td>29</td>\n",
              "      <td>yes</td>\n",
              "      <td>no</td>\n",
              "      <td>unknown</td>\n",
              "      <td>5</td>\n",
              "      <td>may</td>\n",
              "      <td>151</td>\n",
              "      <td>1</td>\n",
              "      <td>-1</td>\n",
              "      <td>0</td>\n",
              "      <td>unknown</td>\n",
              "      <td>0</td>\n",
              "    </tr>\n",
              "    <tr>\n",
              "      <th>2</th>\n",
              "      <td>33</td>\n",
              "      <td>entrepreneur</td>\n",
              "      <td>married</td>\n",
              "      <td>secondary</td>\n",
              "      <td>0</td>\n",
              "      <td>2</td>\n",
              "      <td>yes</td>\n",
              "      <td>yes</td>\n",
              "      <td>unknown</td>\n",
              "      <td>5</td>\n",
              "      <td>may</td>\n",
              "      <td>76</td>\n",
              "      <td>1</td>\n",
              "      <td>-1</td>\n",
              "      <td>0</td>\n",
              "      <td>unknown</td>\n",
              "      <td>0</td>\n",
              "    </tr>\n",
              "    <tr>\n",
              "      <th>3</th>\n",
              "      <td>47</td>\n",
              "      <td>blue-collar</td>\n",
              "      <td>married</td>\n",
              "      <td>unknown</td>\n",
              "      <td>0</td>\n",
              "      <td>1506</td>\n",
              "      <td>yes</td>\n",
              "      <td>no</td>\n",
              "      <td>unknown</td>\n",
              "      <td>5</td>\n",
              "      <td>may</td>\n",
              "      <td>92</td>\n",
              "      <td>1</td>\n",
              "      <td>-1</td>\n",
              "      <td>0</td>\n",
              "      <td>unknown</td>\n",
              "      <td>0</td>\n",
              "    </tr>\n",
              "    <tr>\n",
              "      <th>4</th>\n",
              "      <td>33</td>\n",
              "      <td>unknown</td>\n",
              "      <td>single</td>\n",
              "      <td>unknown</td>\n",
              "      <td>0</td>\n",
              "      <td>1</td>\n",
              "      <td>no</td>\n",
              "      <td>no</td>\n",
              "      <td>unknown</td>\n",
              "      <td>5</td>\n",
              "      <td>may</td>\n",
              "      <td>198</td>\n",
              "      <td>1</td>\n",
              "      <td>-1</td>\n",
              "      <td>0</td>\n",
              "      <td>unknown</td>\n",
              "      <td>0</td>\n",
              "    </tr>\n",
              "  </tbody>\n",
              "</table>\n",
              "</div>"
            ],
            "text/plain": [
              "   age           job  marital  education  ...  pdays  previous poutcome  y\n",
              "0   58    management  married   tertiary  ...     -1         0  unknown  0\n",
              "1   44    technician   single  secondary  ...     -1         0  unknown  0\n",
              "2   33  entrepreneur  married  secondary  ...     -1         0  unknown  0\n",
              "3   47   blue-collar  married    unknown  ...     -1         0  unknown  0\n",
              "4   33       unknown   single    unknown  ...     -1         0  unknown  0\n",
              "\n",
              "[5 rows x 17 columns]"
            ]
          },
          "metadata": {},
          "execution_count": 7
        }
      ]
    },
    {
      "cell_type": "code",
      "metadata": {
        "colab": {
          "base_uri": "https://localhost:8080/"
        },
        "id": "ZpQUGu6xQq0c",
        "outputId": "380b5f95-4d99-4f5e-dcfc-db4c15d8bb2c"
      },
      "source": [
        "bank_df['y'].value_counts()"
      ],
      "execution_count": null,
      "outputs": [
        {
          "output_type": "execute_result",
          "data": {
            "text/plain": [
              "0    39922\n",
              "1     5289\n",
              "Name: y, dtype: int64"
            ]
          },
          "metadata": {
            "tags": []
          },
          "execution_count": 11
        }
      ]
    },
    {
      "cell_type": "code",
      "metadata": {
        "colab": {
          "base_uri": "https://localhost:8080/"
        },
        "id": "LjB5uVq1kHkh",
        "outputId": "726658ff-236f-493c-d655-0ed3e8f47c3c"
      },
      "source": [
        "#creating a list of those columns that contain categorical variable\n",
        "category_column = list(bank_df.select_dtypes(include=['object']))\n",
        "category_column"
      ],
      "execution_count": null,
      "outputs": [
        {
          "output_type": "execute_result",
          "data": {
            "text/plain": [
              "['job',\n",
              " 'marital',\n",
              " 'education',\n",
              " 'housing',\n",
              " 'loan',\n",
              " 'contact',\n",
              " 'month',\n",
              " 'poutcome']"
            ]
          },
          "metadata": {},
          "execution_count": 8
        }
      ]
    },
    {
      "cell_type": "code",
      "metadata": {
        "colab": {
          "base_uri": "https://localhost:8080/",
          "height": 1000
        },
        "id": "mkQCUEx5LlMB",
        "outputId": "15936c59-03d1-456c-87c7-c686687a97f0"
      },
      "source": [
        "#term deposit for job,marital,education,housing,loan,contact,month and poutcome\n",
        "for col in category_column:\n",
        "  plt.figure(figsize=(15,6))\n",
        "  sns.countplot(bank_df[col],hue=bank_df['y'])\n",
        "  plt.show\n"
      ],
      "execution_count": null,
      "outputs": [
        {
          "output_type": "display_data",
          "data": {
            "image/png": "[encoded data removed]",
            "text/plain": [
              "<Figure size 1080x432 with 1 Axes>"
            ]
          },
          "metadata": {
            "needs_background": "light"
          }
        },
        {
          "output_type": "display_data",
          "data": {
            "image/png": "[encoded data removed]",
            "text/plain": [
              "<Figure size 1080x432 with 1 Axes>"
            ]
          },
          "metadata": {
            "needs_background": "light"
          }
        },
        {
          "output_type": "display_data",
          "data": {
            "image/png": "[encoded data removed]",
            "text/plain": [
              "<Figure size 1080x432 with 1 Axes>"
            ]
          },
          "metadata": {
            "needs_background": "light"
          }
        },
        {
          "output_type": "display_data",
          "data": {
            "image/png": "[encoded data removed]",
            "text/plain": [
              "<Figure size 1080x432 with 1 Axes>"
            ]
          },
          "metadata": {
            "needs_background": "light"
          }
        },
        {
          "output_type": "display_data",
          "data": {
            "image/png": "[encoded data removed]",
            "text/plain": [
              "<Figure size 1080x432 with 1 Axes>"
            ]
          },
          "metadata": {
            "needs_background": "light"
          }
        },
        {
          "output_type": "display_data",
          "data": {
            "image/png": "[encoded data removed]",
            "text/plain": [
              "<Figure size 1080x432 with 1 Axes>"
            ]
          },
          "metadata": {
            "needs_background": "light"
          }
        },
        {
          "output_type": "display_data",
          "data": {
            "image/png": "[encoded data removed]",
            "text/plain": [
              "<Figure size 1080x432 with 1 Axes>"
            ]
          },
          "metadata": {
            "needs_background": "light"
          }
        },
        {
          "output_type": "display_data",
          "data": {
            "image/png": "[encoded data removed]",
            "text/plain": [
              "<Figure size 1080x432 with 1 Axes>"
            ]
          },
          "metadata": {
            "needs_background": "light"
          }
        }
      ]
    },
    {
      "cell_type": "code",
      "metadata": {
        "colab": {
          "base_uri": "https://localhost:8080/",
          "height": 388
        },
        "id": "2N37THZtp0N8",
        "outputId": "91abf165-ec4d-4e7b-c3a1-3518e49299fd"
      },
      "source": [
        "#scatter plot on duration vs campaign\n",
        "plt.figure(figsize=(15,6))\n",
        "sns.scatterplot(x=bank_df['duration'],y=bank_df['campaign'] ,hue=bank_df['y'])\n",
        "plt.show()"
      ],
      "execution_count": null,
      "outputs": [
        {
          "output_type": "display_data",
          "data": {
            "image/png": "[encoded data removed]",
            "text/plain": [
              "<Figure size 1080x432 with 1 Axes>"
            ]
          },
          "metadata": {
            "tags": [],
            "needs_background": "light"
          }
        }
      ]
    },
    {
      "cell_type": "markdown",
      "metadata": {
        "id": "2HeBqgWB-1_z"
      },
      "source": [
        "**From the above plot we can see that rate of term deposit increasing as duration of the last call increasing.**"
      ]
    },
    {
      "cell_type": "code",
      "metadata": {
        "colab": {
          "base_uri": "https://localhost:8080/",
          "height": 388
        },
        "id": "ANWDc-mw2qpt",
        "outputId": "cb895d48-fb85-441b-ab48-475a0112f539"
      },
      "source": [
        "#scatter plot pdays vs duration\n",
        "plt.figure(figsize=(15,6))\n",
        "sns.scatterplot(x=bank_df['pdays'],y=bank_df['duration'] ,hue=bank_df['y'])\n",
        "plt.show()"
      ],
      "execution_count": null,
      "outputs": [
        {
          "output_type": "display_data",
          "data": {
            "image/png": "[encoded data removed]",
            "text/plain": [
              "<Figure size 1080x432 with 1 Axes>"
            ]
          },
          "metadata": {
            "tags": [],
            "needs_background": "light"
          }
        }
      ]
    },
    {
      "cell_type": "markdown",
      "metadata": {
        "id": "fZm-EL0wJ-2Y"
      },
      "source": [
        "**As scatter plot is depicting that most of the client that had been last contacted falls in 0-400(days)**"
      ]
    },
    {
      "cell_type": "code",
      "metadata": {
        "colab": {
          "base_uri": "https://localhost:8080/",
          "height": 388
        },
        "id": "m6Bh219Z5kCt",
        "outputId": "ce11ca15-0d78-4cad-8e44-5d9c75201b03"
      },
      "source": [
        "#duration vs balance\n",
        "plt.figure(figsize=(15,6))\n",
        "sns.scatterplot(x=bank_df['duration'],y=bank_df['balance'] ,hue=bank_df['y'])\n",
        "plt.show()"
      ],
      "execution_count": null,
      "outputs": [
        {
          "output_type": "display_data",
          "data": {
            "image/png": "[encoded data removed]",
            "text/plain": [
              "<Figure size 1080x432 with 1 Axes>"
            ]
          },
          "metadata": {
            "tags": [],
            "needs_background": "light"
          }
        }
      ]
    },
    {
      "cell_type": "markdown",
      "metadata": {
        "id": "TBGJJutEKY4p"
      },
      "source": [
        "**Most of the clients who have taken a term deposit do not have very high balance(mostly in between 0-20000)**"
      ]
    },
    {
      "cell_type": "code",
      "metadata": {
        "colab": {
          "base_uri": "https://localhost:8080/",
          "height": 388
        },
        "id": "evq10fXA9GV9",
        "outputId": "10d8a85d-33d2-4ff4-c73c-420268808a6c"
      },
      "source": [
        "#previous vs campaign\n",
        "plt.figure(figsize=(15,6))\n",
        "sns.scatterplot(x=bank_df['previous'],y=bank_df['campaign'] ,hue=bank_df['y'])\n",
        "plt.show()"
      ],
      "execution_count": null,
      "outputs": [
        {
          "output_type": "display_data",
          "data": {
            "image/png": "[encoded data removed]",
            "text/plain": [
              "<Figure size 1080x432 with 1 Axes>"
            ]
          },
          "metadata": {
            "tags": [],
            "needs_background": "light"
          }
        }
      ]
    },
    {
      "cell_type": "markdown",
      "metadata": {
        "id": "BhtmcCH0LHAa"
      },
      "source": [
        "**Most of the clients who have taken a term deposit had been called mostly in b 0-8 times.**"
      ]
    },
    {
      "cell_type": "code",
      "metadata": {
        "colab": {
          "base_uri": "https://localhost:8080/"
        },
        "id": "OZwboXFv-T3M",
        "outputId": "1864ce6a-58be-42fd-a16e-846139859d31"
      },
      "source": [
        "#no.of calls performed in this campaign\n",
        "bank_df.groupby('y')['campaign'].mean()"
      ],
      "execution_count": null,
      "outputs": [
        {
          "output_type": "execute_result",
          "data": {
            "text/plain": [
              "y\n",
              "0    2.846350\n",
              "1    2.141047\n",
              "Name: campaign, dtype: float64"
            ]
          },
          "metadata": {
            "tags": []
          },
          "execution_count": 18
        }
      ]
    },
    {
      "cell_type": "markdown",
      "metadata": {
        "id": "6IUthIIyBH8K"
      },
      "source": [
        "**On average 2 calls leads to success for the clients who have taken a term deposit.**"
      ]
    },
    {
      "cell_type": "code",
      "metadata": {
        "colab": {
          "base_uri": "https://localhost:8080/"
        },
        "id": "JvyCcT3HM6Eo",
        "outputId": "3fa62765-984a-4a14-9cfb-0f85031086c7"
      },
      "source": [
        "#previous calls before campaign\n",
        "bank_df['previous'].unique()"
      ],
      "execution_count": null,
      "outputs": [
        {
          "output_type": "execute_result",
          "data": {
            "text/plain": [
              "array([  0,   3,   1,   4,   2,  11,  16,   6,   5,  10,  12,   7,  18,\n",
              "         9,  21,   8,  14,  15,  26,  37,  13,  25,  20,  27,  17,  23,\n",
              "        38,  29,  24,  51, 275,  22,  19,  30,  58,  28,  32,  40,  55,\n",
              "        35,  41])"
            ]
          },
          "metadata": {
            "tags": []
          },
          "execution_count": 19
        }
      ]
    },
    {
      "cell_type": "code",
      "metadata": {
        "colab": {
          "base_uri": "https://localhost:8080/"
        },
        "id": "TOdf7oZqMoz2",
        "outputId": "434404fd-3201-4eaf-d787-84af70098600"
      },
      "source": [
        "bank_df.groupby('previous')['y'].value_counts().head()"
      ],
      "execution_count": null,
      "outputs": [
        {
          "output_type": "execute_result",
          "data": {
            "text/plain": [
              "previous  y\n",
              "0         0    33570\n",
              "          1     3384\n",
              "1         0     2189\n",
              "          1      583\n",
              "2         0     1650\n",
              "Name: y, dtype: int64"
            ]
          },
          "metadata": {
            "tags": []
          },
          "execution_count": 20
        }
      ]
    },
    {
      "cell_type": "markdown",
      "metadata": {
        "id": "eWibpCcxB-s7"
      },
      "source": [
        "**From above we can say that most of the folks who have taken a term deposit had not contacted before the campaign.**"
      ]
    },
    {
      "cell_type": "markdown",
      "metadata": {
        "id": "WJK9XlLwwlkH"
      },
      "source": [
        "# **Data preprocessing**"
      ]
    },
    {
      "cell_type": "code",
      "metadata": {
        "colab": {
          "base_uri": "https://localhost:8080/"
        },
        "id": "D3DVeyMvFTmb",
        "outputId": "bb9edc92-2882-46df-c22e-e0283f49ab20"
      },
      "source": [
        "category_column = list(bank_df.select_dtypes(include=['object']))\n",
        "category_column"
      ],
      "execution_count": null,
      "outputs": [
        {
          "output_type": "execute_result",
          "data": {
            "text/plain": [
              "['job',\n",
              " 'marital',\n",
              " 'education',\n",
              " 'housing',\n",
              " 'loan',\n",
              " 'contact',\n",
              " 'month',\n",
              " 'poutcome']"
            ]
          },
          "metadata": {
            "tags": []
          },
          "execution_count": 21
        }
      ]
    },
    {
      "cell_type": "code",
      "metadata": {
        "id": "QFtSf1D_Rlgz"
      },
      "source": [
        "#converting categorical column to numeric by hot encoding\n",
        "for cols in category_column :\n",
        "  one_hot = pd.get_dummies(bank_df[cols])\n",
        "  #Drop column job as it is now encoded\n",
        "  bank_df = bank_df.drop(cols,axis = 1)\n",
        "  #Join the encoded df\n",
        "  bank_df= bank_df.join(one_hot, lsuffix='_',rsuffix='__')"
      ],
      "execution_count": null,
      "outputs": []
    },
    {
      "cell_type": "code",
      "metadata": {
        "colab": {
          "base_uri": "https://localhost:8080/",
          "height": 242
        },
        "id": "OhGra0PWadCl",
        "outputId": "4d99d457-cbdd-48bc-f14b-9d8d68ea76ae"
      },
      "source": [
        "#new dataset after hot enncoding\n",
        "bank_df.head()"
      ],
      "execution_count": null,
      "outputs": [
        {
          "output_type": "execute_result",
          "data": {
            "text/html": [
              "<div>\n",
              "<style scoped>\n",
              "    .dataframe tbody tr th:only-of-type {\n",
              "        vertical-align: middle;\n",
              "    }\n",
              "\n",
              "    .dataframe tbody tr th {\n",
              "        vertical-align: top;\n",
              "    }\n",
              "\n",
              "    .dataframe thead th {\n",
              "        text-align: right;\n",
              "    }\n",
              "</style>\n",
              "<table border=\"1\" class=\"dataframe\">\n",
              "  <thead>\n",
              "    <tr style=\"text-align: right;\">\n",
              "      <th></th>\n",
              "      <th>age</th>\n",
              "      <th>default</th>\n",
              "      <th>balance</th>\n",
              "      <th>day</th>\n",
              "      <th>duration</th>\n",
              "      <th>campaign</th>\n",
              "      <th>pdays</th>\n",
              "      <th>previous</th>\n",
              "      <th>y</th>\n",
              "      <th>admin.</th>\n",
              "      <th>blue-collar</th>\n",
              "      <th>entrepreneur</th>\n",
              "      <th>housemaid</th>\n",
              "      <th>management</th>\n",
              "      <th>retired</th>\n",
              "      <th>self-employed</th>\n",
              "      <th>services</th>\n",
              "      <th>student</th>\n",
              "      <th>technician</th>\n",
              "      <th>unemployed</th>\n",
              "      <th>unknown_</th>\n",
              "      <th>divorced</th>\n",
              "      <th>married</th>\n",
              "      <th>single</th>\n",
              "      <th>primary</th>\n",
              "      <th>secondary</th>\n",
              "      <th>tertiary</th>\n",
              "      <th>unknown__</th>\n",
              "      <th>no_</th>\n",
              "      <th>yes_</th>\n",
              "      <th>no__</th>\n",
              "      <th>yes__</th>\n",
              "      <th>cellular</th>\n",
              "      <th>telephone</th>\n",
              "      <th>unknown_</th>\n",
              "      <th>apr</th>\n",
              "      <th>aug</th>\n",
              "      <th>dec</th>\n",
              "      <th>feb</th>\n",
              "      <th>jan</th>\n",
              "      <th>jul</th>\n",
              "      <th>jun</th>\n",
              "      <th>mar</th>\n",
              "      <th>may</th>\n",
              "      <th>nov</th>\n",
              "      <th>oct</th>\n",
              "      <th>sep</th>\n",
              "      <th>failure</th>\n",
              "      <th>other</th>\n",
              "      <th>success</th>\n",
              "      <th>unknown__</th>\n",
              "    </tr>\n",
              "  </thead>\n",
              "  <tbody>\n",
              "    <tr>\n",
              "      <th>0</th>\n",
              "      <td>58</td>\n",
              "      <td>0</td>\n",
              "      <td>2143</td>\n",
              "      <td>5</td>\n",
              "      <td>261</td>\n",
              "      <td>1</td>\n",
              "      <td>-1</td>\n",
              "      <td>0</td>\n",
              "      <td>0</td>\n",
              "      <td>0</td>\n",
              "      <td>0</td>\n",
              "      <td>0</td>\n",
              "      <td>0</td>\n",
              "      <td>1</td>\n",
              "      <td>0</td>\n",
              "      <td>0</td>\n",
              "      <td>0</td>\n",
              "      <td>0</td>\n",
              "      <td>0</td>\n",
              "      <td>0</td>\n",
              "      <td>0</td>\n",
              "      <td>0</td>\n",
              "      <td>1</td>\n",
              "      <td>0</td>\n",
              "      <td>0</td>\n",
              "      <td>0</td>\n",
              "      <td>1</td>\n",
              "      <td>0</td>\n",
              "      <td>0</td>\n",
              "      <td>1</td>\n",
              "      <td>1</td>\n",
              "      <td>0</td>\n",
              "      <td>0</td>\n",
              "      <td>0</td>\n",
              "      <td>1</td>\n",
              "      <td>0</td>\n",
              "      <td>0</td>\n",
              "      <td>0</td>\n",
              "      <td>0</td>\n",
              "      <td>0</td>\n",
              "      <td>0</td>\n",
              "      <td>0</td>\n",
              "      <td>0</td>\n",
              "      <td>1</td>\n",
              "      <td>0</td>\n",
              "      <td>0</td>\n",
              "      <td>0</td>\n",
              "      <td>0</td>\n",
              "      <td>0</td>\n",
              "      <td>0</td>\n",
              "      <td>1</td>\n",
              "    </tr>\n",
              "    <tr>\n",
              "      <th>1</th>\n",
              "      <td>44</td>\n",
              "      <td>0</td>\n",
              "      <td>29</td>\n",
              "      <td>5</td>\n",
              "      <td>151</td>\n",
              "      <td>1</td>\n",
              "      <td>-1</td>\n",
              "      <td>0</td>\n",
              "      <td>0</td>\n",
              "      <td>0</td>\n",
              "      <td>0</td>\n",
              "      <td>0</td>\n",
              "      <td>0</td>\n",
              "      <td>0</td>\n",
              "      <td>0</td>\n",
              "      <td>0</td>\n",
              "      <td>0</td>\n",
              "      <td>0</td>\n",
              "      <td>1</td>\n",
              "      <td>0</td>\n",
              "      <td>0</td>\n",
              "      <td>0</td>\n",
              "      <td>0</td>\n",
              "      <td>1</td>\n",
              "      <td>0</td>\n",
              "      <td>1</td>\n",
              "      <td>0</td>\n",
              "      <td>0</td>\n",
              "      <td>0</td>\n",
              "      <td>1</td>\n",
              "      <td>1</td>\n",
              "      <td>0</td>\n",
              "      <td>0</td>\n",
              "      <td>0</td>\n",
              "      <td>1</td>\n",
              "      <td>0</td>\n",
              "      <td>0</td>\n",
              "      <td>0</td>\n",
              "      <td>0</td>\n",
              "      <td>0</td>\n",
              "      <td>0</td>\n",
              "      <td>0</td>\n",
              "      <td>0</td>\n",
              "      <td>1</td>\n",
              "      <td>0</td>\n",
              "      <td>0</td>\n",
              "      <td>0</td>\n",
              "      <td>0</td>\n",
              "      <td>0</td>\n",
              "      <td>0</td>\n",
              "      <td>1</td>\n",
              "    </tr>\n",
              "    <tr>\n",
              "      <th>2</th>\n",
              "      <td>33</td>\n",
              "      <td>0</td>\n",
              "      <td>2</td>\n",
              "      <td>5</td>\n",
              "      <td>76</td>\n",
              "      <td>1</td>\n",
              "      <td>-1</td>\n",
              "      <td>0</td>\n",
              "      <td>0</td>\n",
              "      <td>0</td>\n",
              "      <td>0</td>\n",
              "      <td>1</td>\n",
              "      <td>0</td>\n",
              "      <td>0</td>\n",
              "      <td>0</td>\n",
              "      <td>0</td>\n",
              "      <td>0</td>\n",
              "      <td>0</td>\n",
              "      <td>0</td>\n",
              "      <td>0</td>\n",
              "      <td>0</td>\n",
              "      <td>0</td>\n",
              "      <td>1</td>\n",
              "      <td>0</td>\n",
              "      <td>0</td>\n",
              "      <td>1</td>\n",
              "      <td>0</td>\n",
              "      <td>0</td>\n",
              "      <td>0</td>\n",
              "      <td>1</td>\n",
              "      <td>0</td>\n",
              "      <td>1</td>\n",
              "      <td>0</td>\n",
              "      <td>0</td>\n",
              "      <td>1</td>\n",
              "      <td>0</td>\n",
              "      <td>0</td>\n",
              "      <td>0</td>\n",
              "      <td>0</td>\n",
              "      <td>0</td>\n",
              "      <td>0</td>\n",
              "      <td>0</td>\n",
              "      <td>0</td>\n",
              "      <td>1</td>\n",
              "      <td>0</td>\n",
              "      <td>0</td>\n",
              "      <td>0</td>\n",
              "      <td>0</td>\n",
              "      <td>0</td>\n",
              "      <td>0</td>\n",
              "      <td>1</td>\n",
              "    </tr>\n",
              "    <tr>\n",
              "      <th>3</th>\n",
              "      <td>47</td>\n",
              "      <td>0</td>\n",
              "      <td>1506</td>\n",
              "      <td>5</td>\n",
              "      <td>92</td>\n",
              "      <td>1</td>\n",
              "      <td>-1</td>\n",
              "      <td>0</td>\n",
              "      <td>0</td>\n",
              "      <td>0</td>\n",
              "      <td>1</td>\n",
              "      <td>0</td>\n",
              "      <td>0</td>\n",
              "      <td>0</td>\n",
              "      <td>0</td>\n",
              "      <td>0</td>\n",
              "      <td>0</td>\n",
              "      <td>0</td>\n",
              "      <td>0</td>\n",
              "      <td>0</td>\n",
              "      <td>0</td>\n",
              "      <td>0</td>\n",
              "      <td>1</td>\n",
              "      <td>0</td>\n",
              "      <td>0</td>\n",
              "      <td>0</td>\n",
              "      <td>0</td>\n",
              "      <td>1</td>\n",
              "      <td>0</td>\n",
              "      <td>1</td>\n",
              "      <td>1</td>\n",
              "      <td>0</td>\n",
              "      <td>0</td>\n",
              "      <td>0</td>\n",
              "      <td>1</td>\n",
              "      <td>0</td>\n",
              "      <td>0</td>\n",
              "      <td>0</td>\n",
              "      <td>0</td>\n",
              "      <td>0</td>\n",
              "      <td>0</td>\n",
              "      <td>0</td>\n",
              "      <td>0</td>\n",
              "      <td>1</td>\n",
              "      <td>0</td>\n",
              "      <td>0</td>\n",
              "      <td>0</td>\n",
              "      <td>0</td>\n",
              "      <td>0</td>\n",
              "      <td>0</td>\n",
              "      <td>1</td>\n",
              "    </tr>\n",
              "    <tr>\n",
              "      <th>4</th>\n",
              "      <td>33</td>\n",
              "      <td>0</td>\n",
              "      <td>1</td>\n",
              "      <td>5</td>\n",
              "      <td>198</td>\n",
              "      <td>1</td>\n",
              "      <td>-1</td>\n",
              "      <td>0</td>\n",
              "      <td>0</td>\n",
              "      <td>0</td>\n",
              "      <td>0</td>\n",
              "      <td>0</td>\n",
              "      <td>0</td>\n",
              "      <td>0</td>\n",
              "      <td>0</td>\n",
              "      <td>0</td>\n",
              "      <td>0</td>\n",
              "      <td>0</td>\n",
              "      <td>0</td>\n",
              "      <td>0</td>\n",
              "      <td>1</td>\n",
              "      <td>0</td>\n",
              "      <td>0</td>\n",
              "      <td>1</td>\n",
              "      <td>0</td>\n",
              "      <td>0</td>\n",
              "      <td>0</td>\n",
              "      <td>1</td>\n",
              "      <td>1</td>\n",
              "      <td>0</td>\n",
              "      <td>1</td>\n",
              "      <td>0</td>\n",
              "      <td>0</td>\n",
              "      <td>0</td>\n",
              "      <td>1</td>\n",
              "      <td>0</td>\n",
              "      <td>0</td>\n",
              "      <td>0</td>\n",
              "      <td>0</td>\n",
              "      <td>0</td>\n",
              "      <td>0</td>\n",
              "      <td>0</td>\n",
              "      <td>0</td>\n",
              "      <td>1</td>\n",
              "      <td>0</td>\n",
              "      <td>0</td>\n",
              "      <td>0</td>\n",
              "      <td>0</td>\n",
              "      <td>0</td>\n",
              "      <td>0</td>\n",
              "      <td>1</td>\n",
              "    </tr>\n",
              "  </tbody>\n",
              "</table>\n",
              "</div>"
            ],
            "text/plain": [
              "   age  default  balance  day  ...  failure  other  success  unknown__\n",
              "0   58        0     2143    5  ...        0      0        0          1\n",
              "1   44        0       29    5  ...        0      0        0          1\n",
              "2   33        0        2    5  ...        0      0        0          1\n",
              "3   47        0     1506    5  ...        0      0        0          1\n",
              "4   33        0        1    5  ...        0      0        0          1\n",
              "\n",
              "[5 rows x 51 columns]"
            ]
          },
          "metadata": {
            "tags": []
          },
          "execution_count": 23
        }
      ]
    },
    {
      "cell_type": "markdown",
      "metadata": {
        "id": "Fz0ENm69HeV-"
      },
      "source": [
        "**Dataset after hot encoding has been done so that we can convert our some of the categorical columns into numeric.**"
      ]
    },
    {
      "cell_type": "code",
      "metadata": {
        "colab": {
          "base_uri": "https://localhost:8080/"
        },
        "id": "6vvMZCAY_p6n",
        "outputId": "ed129dea-981f-452a-878b-1fa85f07bd3f"
      },
      "source": [
        "bank_df.info()"
      ],
      "execution_count": null,
      "outputs": [
        {
          "output_type": "stream",
          "text": [
            "<class 'pandas.core.frame.DataFrame'>\n",
            "RangeIndex: 45211 entries, 0 to 45210\n",
            "Data columns (total 51 columns):\n",
            " #   Column         Non-Null Count  Dtype\n",
            "---  ------         --------------  -----\n",
            " 0   age            45211 non-null  int64\n",
            " 1   default        45211 non-null  int64\n",
            " 2   balance        45211 non-null  int64\n",
            " 3   day            45211 non-null  int64\n",
            " 4   duration       45211 non-null  int64\n",
            " 5   campaign       45211 non-null  int64\n",
            " 6   pdays          45211 non-null  int64\n",
            " 7   previous       45211 non-null  int64\n",
            " 8   y              45211 non-null  int64\n",
            " 9   admin.         45211 non-null  uint8\n",
            " 10  blue-collar    45211 non-null  uint8\n",
            " 11  entrepreneur   45211 non-null  uint8\n",
            " 12  housemaid      45211 non-null  uint8\n",
            " 13  management     45211 non-null  uint8\n",
            " 14  retired        45211 non-null  uint8\n",
            " 15  self-employed  45211 non-null  uint8\n",
            " 16  services       45211 non-null  uint8\n",
            " 17  student        45211 non-null  uint8\n",
            " 18  technician     45211 non-null  uint8\n",
            " 19  unemployed     45211 non-null  uint8\n",
            " 20  unknown_       45211 non-null  uint8\n",
            " 21  divorced       45211 non-null  uint8\n",
            " 22  married        45211 non-null  uint8\n",
            " 23  single         45211 non-null  uint8\n",
            " 24  primary        45211 non-null  uint8\n",
            " 25  secondary      45211 non-null  uint8\n",
            " 26  tertiary       45211 non-null  uint8\n",
            " 27  unknown__      45211 non-null  uint8\n",
            " 28  no_            45211 non-null  uint8\n",
            " 29  yes_           45211 non-null  uint8\n",
            " 30  no__           45211 non-null  uint8\n",
            " 31  yes__          45211 non-null  uint8\n",
            " 32  cellular       45211 non-null  uint8\n",
            " 33  telephone      45211 non-null  uint8\n",
            " 34  unknown_       45211 non-null  uint8\n",
            " 35  apr            45211 non-null  uint8\n",
            " 36  aug            45211 non-null  uint8\n",
            " 37  dec            45211 non-null  uint8\n",
            " 38  feb            45211 non-null  uint8\n",
            " 39  jan            45211 non-null  uint8\n",
            " 40  jul            45211 non-null  uint8\n",
            " 41  jun            45211 non-null  uint8\n",
            " 42  mar            45211 non-null  uint8\n",
            " 43  may            45211 non-null  uint8\n",
            " 44  nov            45211 non-null  uint8\n",
            " 45  oct            45211 non-null  uint8\n",
            " 46  sep            45211 non-null  uint8\n",
            " 47  failure        45211 non-null  uint8\n",
            " 48  other          45211 non-null  uint8\n",
            " 49  success        45211 non-null  uint8\n",
            " 50  unknown__      45211 non-null  uint8\n",
            "dtypes: int64(9), uint8(42)\n",
            "memory usage: 4.9 MB\n"
          ],
          "name": "stdout"
        }
      ]
    },
    {
      "cell_type": "markdown",
      "metadata": {
        "id": "vcR7yZKODFmR"
      },
      "source": [
        "**Now ,after hot encoding we have 50 attributes in our banking dataset**"
      ]
    },
    {
      "cell_type": "code",
      "metadata": {
        "colab": {
          "base_uri": "https://localhost:8080/",
          "height": 205
        },
        "id": "x-Z9HA4gI3_9",
        "outputId": "562da885-3f87-4864-f43a-8e59d16d233b"
      },
      "source": [
        "#In terms of age ,checking the no. of clients who have taken a term deposits.\n",
        "bank_df.groupby('age')['y'].count().reset_index().head()\n"
      ],
      "execution_count": null,
      "outputs": [
        {
          "output_type": "execute_result",
          "data": {
            "text/html": [
              "<div>\n",
              "<style scoped>\n",
              "    .dataframe tbody tr th:only-of-type {\n",
              "        vertical-align: middle;\n",
              "    }\n",
              "\n",
              "    .dataframe tbody tr th {\n",
              "        vertical-align: top;\n",
              "    }\n",
              "\n",
              "    .dataframe thead th {\n",
              "        text-align: right;\n",
              "    }\n",
              "</style>\n",
              "<table border=\"1\" class=\"dataframe\">\n",
              "  <thead>\n",
              "    <tr style=\"text-align: right;\">\n",
              "      <th></th>\n",
              "      <th>age</th>\n",
              "      <th>y</th>\n",
              "    </tr>\n",
              "  </thead>\n",
              "  <tbody>\n",
              "    <tr>\n",
              "      <th>0</th>\n",
              "      <td>18</td>\n",
              "      <td>12</td>\n",
              "    </tr>\n",
              "    <tr>\n",
              "      <th>1</th>\n",
              "      <td>19</td>\n",
              "      <td>35</td>\n",
              "    </tr>\n",
              "    <tr>\n",
              "      <th>2</th>\n",
              "      <td>20</td>\n",
              "      <td>50</td>\n",
              "    </tr>\n",
              "    <tr>\n",
              "      <th>3</th>\n",
              "      <td>21</td>\n",
              "      <td>79</td>\n",
              "    </tr>\n",
              "    <tr>\n",
              "      <th>4</th>\n",
              "      <td>22</td>\n",
              "      <td>129</td>\n",
              "    </tr>\n",
              "  </tbody>\n",
              "</table>\n",
              "</div>"
            ],
            "text/plain": [
              "   age    y\n",
              "0   18   12\n",
              "1   19   35\n",
              "2   20   50\n",
              "3   21   79\n",
              "4   22  129"
            ]
          },
          "metadata": {
            "tags": []
          },
          "execution_count": 25
        }
      ]
    },
    {
      "cell_type": "code",
      "metadata": {
        "colab": {
          "base_uri": "https://localhost:8080/",
          "height": 205
        },
        "id": "owJKqbPYMU35",
        "outputId": "41c952af-f181-4d2d-8912-c6ee36cba813"
      },
      "source": [
        "#taking mean of age attribute \n",
        "bank_df.groupby('age')['y'].mean().reset_index().head()\n"
      ],
      "execution_count": null,
      "outputs": [
        {
          "output_type": "execute_result",
          "data": {
            "text/html": [
              "<div>\n",
              "<style scoped>\n",
              "    .dataframe tbody tr th:only-of-type {\n",
              "        vertical-align: middle;\n",
              "    }\n",
              "\n",
              "    .dataframe tbody tr th {\n",
              "        vertical-align: top;\n",
              "    }\n",
              "\n",
              "    .dataframe thead th {\n",
              "        text-align: right;\n",
              "    }\n",
              "</style>\n",
              "<table border=\"1\" class=\"dataframe\">\n",
              "  <thead>\n",
              "    <tr style=\"text-align: right;\">\n",
              "      <th></th>\n",
              "      <th>age</th>\n",
              "      <th>y</th>\n",
              "    </tr>\n",
              "  </thead>\n",
              "  <tbody>\n",
              "    <tr>\n",
              "      <th>0</th>\n",
              "      <td>18</td>\n",
              "      <td>0.583333</td>\n",
              "    </tr>\n",
              "    <tr>\n",
              "      <th>1</th>\n",
              "      <td>19</td>\n",
              "      <td>0.314286</td>\n",
              "    </tr>\n",
              "    <tr>\n",
              "      <th>2</th>\n",
              "      <td>20</td>\n",
              "      <td>0.300000</td>\n",
              "    </tr>\n",
              "    <tr>\n",
              "      <th>3</th>\n",
              "      <td>21</td>\n",
              "      <td>0.278481</td>\n",
              "    </tr>\n",
              "    <tr>\n",
              "      <th>4</th>\n",
              "      <td>22</td>\n",
              "      <td>0.310078</td>\n",
              "    </tr>\n",
              "  </tbody>\n",
              "</table>\n",
              "</div>"
            ],
            "text/plain": [
              "   age         y\n",
              "0   18  0.583333\n",
              "1   19  0.314286\n",
              "2   20  0.300000\n",
              "3   21  0.278481\n",
              "4   22  0.310078"
            ]
          },
          "metadata": {
            "tags": []
          },
          "execution_count": 26
        }
      ]
    },
    {
      "cell_type": "markdown",
      "metadata": {
        "id": "MD4m1ppXw2g6"
      },
      "source": [
        "**Mean Encoding**"
      ]
    },
    {
      "cell_type": "code",
      "metadata": {
        "colab": {
          "base_uri": "https://localhost:8080/",
          "height": 242
        },
        "id": "oJIl4bLYMhR5",
        "outputId": "68373215-82ca-458d-f402-b843dfd64fea"
      },
      "source": [
        "# doing a mean encoding \n",
        "Mean_encoded_subject=bank_df.groupby('age')['y'].mean().to_dict()\n",
        "bank_df['age']= bank_df['age'].map(Mean_encoded_subject)\n",
        "bank_df.head()"
      ],
      "execution_count": null,
      "outputs": [
        {
          "output_type": "execute_result",
          "data": {
            "text/html": [
              "<div>\n",
              "<style scoped>\n",
              "    .dataframe tbody tr th:only-of-type {\n",
              "        vertical-align: middle;\n",
              "    }\n",
              "\n",
              "    .dataframe tbody tr th {\n",
              "        vertical-align: top;\n",
              "    }\n",
              "\n",
              "    .dataframe thead th {\n",
              "        text-align: right;\n",
              "    }\n",
              "</style>\n",
              "<table border=\"1\" class=\"dataframe\">\n",
              "  <thead>\n",
              "    <tr style=\"text-align: right;\">\n",
              "      <th></th>\n",
              "      <th>age</th>\n",
              "      <th>default</th>\n",
              "      <th>balance</th>\n",
              "      <th>day</th>\n",
              "      <th>duration</th>\n",
              "      <th>campaign</th>\n",
              "      <th>pdays</th>\n",
              "      <th>previous</th>\n",
              "      <th>y</th>\n",
              "      <th>admin.</th>\n",
              "      <th>blue-collar</th>\n",
              "      <th>entrepreneur</th>\n",
              "      <th>housemaid</th>\n",
              "      <th>management</th>\n",
              "      <th>retired</th>\n",
              "      <th>self-employed</th>\n",
              "      <th>services</th>\n",
              "      <th>student</th>\n",
              "      <th>technician</th>\n",
              "      <th>unemployed</th>\n",
              "      <th>unknown_</th>\n",
              "      <th>divorced</th>\n",
              "      <th>married</th>\n",
              "      <th>single</th>\n",
              "      <th>primary</th>\n",
              "      <th>secondary</th>\n",
              "      <th>tertiary</th>\n",
              "      <th>unknown__</th>\n",
              "      <th>no_</th>\n",
              "      <th>yes_</th>\n",
              "      <th>no__</th>\n",
              "      <th>yes__</th>\n",
              "      <th>cellular</th>\n",
              "      <th>telephone</th>\n",
              "      <th>unknown_</th>\n",
              "      <th>apr</th>\n",
              "      <th>aug</th>\n",
              "      <th>dec</th>\n",
              "      <th>feb</th>\n",
              "      <th>jan</th>\n",
              "      <th>jul</th>\n",
              "      <th>jun</th>\n",
              "      <th>mar</th>\n",
              "      <th>may</th>\n",
              "      <th>nov</th>\n",
              "      <th>oct</th>\n",
              "      <th>sep</th>\n",
              "      <th>failure</th>\n",
              "      <th>other</th>\n",
              "      <th>success</th>\n",
              "      <th>unknown__</th>\n",
              "    </tr>\n",
              "  </thead>\n",
              "  <tbody>\n",
              "    <tr>\n",
              "      <th>0</th>\n",
              "      <td>0.097297</td>\n",
              "      <td>0</td>\n",
              "      <td>2143</td>\n",
              "      <td>5</td>\n",
              "      <td>261</td>\n",
              "      <td>1</td>\n",
              "      <td>-1</td>\n",
              "      <td>0</td>\n",
              "      <td>0</td>\n",
              "      <td>0</td>\n",
              "      <td>0</td>\n",
              "      <td>0</td>\n",
              "      <td>0</td>\n",
              "      <td>1</td>\n",
              "      <td>0</td>\n",
              "      <td>0</td>\n",
              "      <td>0</td>\n",
              "      <td>0</td>\n",
              "      <td>0</td>\n",
              "      <td>0</td>\n",
              "      <td>0</td>\n",
              "      <td>0</td>\n",
              "      <td>1</td>\n",
              "      <td>0</td>\n",
              "      <td>0</td>\n",
              "      <td>0</td>\n",
              "      <td>1</td>\n",
              "      <td>0</td>\n",
              "      <td>0</td>\n",
              "      <td>1</td>\n",
              "      <td>1</td>\n",
              "      <td>0</td>\n",
              "      <td>0</td>\n",
              "      <td>0</td>\n",
              "      <td>1</td>\n",
              "      <td>0</td>\n",
              "      <td>0</td>\n",
              "      <td>0</td>\n",
              "      <td>0</td>\n",
              "      <td>0</td>\n",
              "      <td>0</td>\n",
              "      <td>0</td>\n",
              "      <td>0</td>\n",
              "      <td>1</td>\n",
              "      <td>0</td>\n",
              "      <td>0</td>\n",
              "      <td>0</td>\n",
              "      <td>0</td>\n",
              "      <td>0</td>\n",
              "      <td>0</td>\n",
              "      <td>1</td>\n",
              "    </tr>\n",
              "    <tr>\n",
              "      <th>1</th>\n",
              "      <td>0.081866</td>\n",
              "      <td>0</td>\n",
              "      <td>29</td>\n",
              "      <td>5</td>\n",
              "      <td>151</td>\n",
              "      <td>1</td>\n",
              "      <td>-1</td>\n",
              "      <td>0</td>\n",
              "      <td>0</td>\n",
              "      <td>0</td>\n",
              "      <td>0</td>\n",
              "      <td>0</td>\n",
              "      <td>0</td>\n",
              "      <td>0</td>\n",
              "      <td>0</td>\n",
              "      <td>0</td>\n",
              "      <td>0</td>\n",
              "      <td>0</td>\n",
              "      <td>1</td>\n",
              "      <td>0</td>\n",
              "      <td>0</td>\n",
              "      <td>0</td>\n",
              "      <td>0</td>\n",
              "      <td>1</td>\n",
              "      <td>0</td>\n",
              "      <td>1</td>\n",
              "      <td>0</td>\n",
              "      <td>0</td>\n",
              "      <td>0</td>\n",
              "      <td>1</td>\n",
              "      <td>1</td>\n",
              "      <td>0</td>\n",
              "      <td>0</td>\n",
              "      <td>0</td>\n",
              "      <td>1</td>\n",
              "      <td>0</td>\n",
              "      <td>0</td>\n",
              "      <td>0</td>\n",
              "      <td>0</td>\n",
              "      <td>0</td>\n",
              "      <td>0</td>\n",
              "      <td>0</td>\n",
              "      <td>0</td>\n",
              "      <td>1</td>\n",
              "      <td>0</td>\n",
              "      <td>0</td>\n",
              "      <td>0</td>\n",
              "      <td>0</td>\n",
              "      <td>0</td>\n",
              "      <td>0</td>\n",
              "      <td>1</td>\n",
              "    </tr>\n",
              "    <tr>\n",
              "      <th>2</th>\n",
              "      <td>0.106491</td>\n",
              "      <td>0</td>\n",
              "      <td>2</td>\n",
              "      <td>5</td>\n",
              "      <td>76</td>\n",
              "      <td>1</td>\n",
              "      <td>-1</td>\n",
              "      <td>0</td>\n",
              "      <td>0</td>\n",
              "      <td>0</td>\n",
              "      <td>0</td>\n",
              "      <td>1</td>\n",
              "      <td>0</td>\n",
              "      <td>0</td>\n",
              "      <td>0</td>\n",
              "      <td>0</td>\n",
              "      <td>0</td>\n",
              "      <td>0</td>\n",
              "      <td>0</td>\n",
              "      <td>0</td>\n",
              "      <td>0</td>\n",
              "      <td>0</td>\n",
              "      <td>1</td>\n",
              "      <td>0</td>\n",
              "      <td>0</td>\n",
              "      <td>1</td>\n",
              "      <td>0</td>\n",
              "      <td>0</td>\n",
              "      <td>0</td>\n",
              "      <td>1</td>\n",
              "      <td>0</td>\n",
              "      <td>1</td>\n",
              "      <td>0</td>\n",
              "      <td>0</td>\n",
              "      <td>1</td>\n",
              "      <td>0</td>\n",
              "      <td>0</td>\n",
              "      <td>0</td>\n",
              "      <td>0</td>\n",
              "      <td>0</td>\n",
              "      <td>0</td>\n",
              "      <td>0</td>\n",
              "      <td>0</td>\n",
              "      <td>1</td>\n",
              "      <td>0</td>\n",
              "      <td>0</td>\n",
              "      <td>0</td>\n",
              "      <td>0</td>\n",
              "      <td>0</td>\n",
              "      <td>0</td>\n",
              "      <td>1</td>\n",
              "    </tr>\n",
              "    <tr>\n",
              "      <th>3</th>\n",
              "      <td>0.103860</td>\n",
              "      <td>0</td>\n",
              "      <td>1506</td>\n",
              "      <td>5</td>\n",
              "      <td>92</td>\n",
              "      <td>1</td>\n",
              "      <td>-1</td>\n",
              "      <td>0</td>\n",
              "      <td>0</td>\n",
              "      <td>0</td>\n",
              "      <td>1</td>\n",
              "      <td>0</td>\n",
              "      <td>0</td>\n",
              "      <td>0</td>\n",
              "      <td>0</td>\n",
              "      <td>0</td>\n",
              "      <td>0</td>\n",
              "      <td>0</td>\n",
              "      <td>0</td>\n",
              "      <td>0</td>\n",
              "      <td>0</td>\n",
              "      <td>0</td>\n",
              "      <td>1</td>\n",
              "      <td>0</td>\n",
              "      <td>0</td>\n",
              "      <td>0</td>\n",
              "      <td>0</td>\n",
              "      <td>1</td>\n",
              "      <td>0</td>\n",
              "      <td>1</td>\n",
              "      <td>1</td>\n",
              "      <td>0</td>\n",
              "      <td>0</td>\n",
              "      <td>0</td>\n",
              "      <td>1</td>\n",
              "      <td>0</td>\n",
              "      <td>0</td>\n",
              "      <td>0</td>\n",
              "      <td>0</td>\n",
              "      <td>0</td>\n",
              "      <td>0</td>\n",
              "      <td>0</td>\n",
              "      <td>0</td>\n",
              "      <td>1</td>\n",
              "      <td>0</td>\n",
              "      <td>0</td>\n",
              "      <td>0</td>\n",
              "      <td>0</td>\n",
              "      <td>0</td>\n",
              "      <td>0</td>\n",
              "      <td>1</td>\n",
              "    </tr>\n",
              "    <tr>\n",
              "      <th>4</th>\n",
              "      <td>0.106491</td>\n",
              "      <td>0</td>\n",
              "      <td>1</td>\n",
              "      <td>5</td>\n",
              "      <td>198</td>\n",
              "      <td>1</td>\n",
              "      <td>-1</td>\n",
              "      <td>0</td>\n",
              "      <td>0</td>\n",
              "      <td>0</td>\n",
              "      <td>0</td>\n",
              "      <td>0</td>\n",
              "      <td>0</td>\n",
              "      <td>0</td>\n",
              "      <td>0</td>\n",
              "      <td>0</td>\n",
              "      <td>0</td>\n",
              "      <td>0</td>\n",
              "      <td>0</td>\n",
              "      <td>0</td>\n",
              "      <td>1</td>\n",
              "      <td>0</td>\n",
              "      <td>0</td>\n",
              "      <td>1</td>\n",
              "      <td>0</td>\n",
              "      <td>0</td>\n",
              "      <td>0</td>\n",
              "      <td>1</td>\n",
              "      <td>1</td>\n",
              "      <td>0</td>\n",
              "      <td>1</td>\n",
              "      <td>0</td>\n",
              "      <td>0</td>\n",
              "      <td>0</td>\n",
              "      <td>1</td>\n",
              "      <td>0</td>\n",
              "      <td>0</td>\n",
              "      <td>0</td>\n",
              "      <td>0</td>\n",
              "      <td>0</td>\n",
              "      <td>0</td>\n",
              "      <td>0</td>\n",
              "      <td>0</td>\n",
              "      <td>1</td>\n",
              "      <td>0</td>\n",
              "      <td>0</td>\n",
              "      <td>0</td>\n",
              "      <td>0</td>\n",
              "      <td>0</td>\n",
              "      <td>0</td>\n",
              "      <td>1</td>\n",
              "    </tr>\n",
              "  </tbody>\n",
              "</table>\n",
              "</div>"
            ],
            "text/plain": [
              "        age  default  balance  day  ...  failure  other  success  unknown__\n",
              "0  0.097297        0     2143    5  ...        0      0        0          1\n",
              "1  0.081866        0       29    5  ...        0      0        0          1\n",
              "2  0.106491        0        2    5  ...        0      0        0          1\n",
              "3  0.103860        0     1506    5  ...        0      0        0          1\n",
              "4  0.106491        0        1    5  ...        0      0        0          1\n",
              "\n",
              "[5 rows x 51 columns]"
            ]
          },
          "metadata": {
            "tags": []
          },
          "execution_count": 27
        }
      ]
    },
    {
      "cell_type": "markdown",
      "metadata": {
        "id": "Gaoju8MaEK4v"
      },
      "source": [
        "**Age attribute varies a lot and would have been affected our model prediction so we have done a mean encoding so that it can be balanced.**"
      ]
    },
    {
      "cell_type": "markdown",
      "metadata": {
        "id": "11yD9q0l2MDN"
      },
      "source": [
        "# **Feature Extraction**"
      ]
    },
    {
      "cell_type": "code",
      "metadata": {
        "colab": {
          "base_uri": "https://localhost:8080/"
        },
        "id": "YtcCuUAMPYgI",
        "outputId": "ad4ba0f4-680e-4517-8f3e-7af7cc16ddbe"
      },
      "source": [
        "#checking when the client last contacted\n",
        "bank_df.groupby('pdays')['y'].value_counts().head()"
      ],
      "execution_count": null,
      "outputs": [
        {
          "output_type": "execute_result",
          "data": {
            "text/plain": [
              "pdays  y\n",
              "-1     0    33570\n",
              "       1     3384\n",
              " 1     0        9\n",
              "       1        6\n",
              " 2     0       35\n",
              "Name: y, dtype: int64"
            ]
          },
          "metadata": {
            "tags": []
          },
          "execution_count": 28
        }
      ]
    },
    {
      "cell_type": "markdown",
      "metadata": {
        "id": "a5XXVCE7FYo-"
      },
      "source": [
        "**In the above cell we have checked when the client last contacted in terms of y attribute and we can see that most of the folks who have taken a term deposit are falling under pdays=-1 which is totally unknown.**\n",
        "\n",
        "**So we have dropped it due to insufficient information about this pdays attribute.**"
      ]
    },
    {
      "cell_type": "code",
      "metadata": {
        "id": "aIH8zOuQIJd2"
      },
      "source": [
        "bank_df.drop('pdays',axis=1,inplace=True)\n",
        "bank_df.drop('day',axis=1,inplace=True)"
      ],
      "execution_count": null,
      "outputs": []
    },
    {
      "cell_type": "markdown",
      "metadata": {
        "id": "dpsAOjyCG5vG"
      },
      "source": [
        "**We have also dropped day column as it is not making sense.**"
      ]
    },
    {
      "cell_type": "code",
      "metadata": {
        "id": "dB7HOZz3h7L0"
      },
      "source": [
        "#droping duration attribute\n",
        "bank_df.drop('duration', axis=1, inplace=True)"
      ],
      "execution_count": null,
      "outputs": []
    },
    {
      "cell_type": "markdown",
      "metadata": {
        "id": "7K1H57cPITEV"
      },
      "source": [
        "**As it is also mentioned above that  this attribute 'Duration' highly affects the output target (e.g., if duration=0 then y='no'). Yet, the duration is not known before a call is performed. Also, after the end of the call y is obviously known. Thus, this input should only be included for benchmark purposes and should be discarded if the intention is to have a realistic predictive model.**\n",
        "\n",
        "**So we dropped this duration attribute.**"
      ]
    },
    {
      "cell_type": "code",
      "metadata": {
        "id": "lhPyayrkG9Hu",
        "scrolled": true
      },
      "source": [
        "#using standard minmax scaler in balance attribute to standardise our dataset\n",
        "from sklearn.preprocessing import MinMaxScaler\n",
        "minmax = MinMaxScaler(feature_range=(0, 1))\n",
        "bank_df['balance'] = minmax.fit_transform(bank_df['balance'].values.reshape(-1,1))"
      ],
      "execution_count": null,
      "outputs": []
    },
    {
      "cell_type": "markdown",
      "metadata": {
        "id": "q0JwSeZUJO_a"
      },
      "source": [
        "**Had we been taken a balance attribute as it is it would have been affeted our prediction models in a negative way.**\n",
        "\n",
        "**So we have used MinMax scaler to standardise the values in this column.**"
      ]
    },
    {
      "cell_type": "markdown",
      "metadata": {
        "id": "qvugqZjOxDV4"
      },
      "source": [
        "**FINAL DATASET**"
      ]
    },
    {
      "cell_type": "code",
      "metadata": {
        "colab": {
          "base_uri": "https://localhost:8080/",
          "height": 242
        },
        "id": "_nLNL1o-wcrf",
        "outputId": "dd9ba175-6616-4785-826d-d92463d4422f"
      },
      "source": [
        "bank_df.head()"
      ],
      "execution_count": null,
      "outputs": [
        {
          "output_type": "execute_result",
          "data": {
            "text/html": [
              "<div>\n",
              "<style scoped>\n",
              "    .dataframe tbody tr th:only-of-type {\n",
              "        vertical-align: middle;\n",
              "    }\n",
              "\n",
              "    .dataframe tbody tr th {\n",
              "        vertical-align: top;\n",
              "    }\n",
              "\n",
              "    .dataframe thead th {\n",
              "        text-align: right;\n",
              "    }\n",
              "</style>\n",
              "<table border=\"1\" class=\"dataframe\">\n",
              "  <thead>\n",
              "    <tr style=\"text-align: right;\">\n",
              "      <th></th>\n",
              "      <th>age</th>\n",
              "      <th>default</th>\n",
              "      <th>balance</th>\n",
              "      <th>campaign</th>\n",
              "      <th>previous</th>\n",
              "      <th>y</th>\n",
              "      <th>admin.</th>\n",
              "      <th>blue-collar</th>\n",
              "      <th>entrepreneur</th>\n",
              "      <th>housemaid</th>\n",
              "      <th>management</th>\n",
              "      <th>retired</th>\n",
              "      <th>self-employed</th>\n",
              "      <th>services</th>\n",
              "      <th>student</th>\n",
              "      <th>technician</th>\n",
              "      <th>unemployed</th>\n",
              "      <th>unknown_</th>\n",
              "      <th>divorced</th>\n",
              "      <th>married</th>\n",
              "      <th>single</th>\n",
              "      <th>primary</th>\n",
              "      <th>secondary</th>\n",
              "      <th>tertiary</th>\n",
              "      <th>unknown__</th>\n",
              "      <th>no_</th>\n",
              "      <th>yes_</th>\n",
              "      <th>no__</th>\n",
              "      <th>yes__</th>\n",
              "      <th>cellular</th>\n",
              "      <th>telephone</th>\n",
              "      <th>unknown_</th>\n",
              "      <th>apr</th>\n",
              "      <th>aug</th>\n",
              "      <th>dec</th>\n",
              "      <th>feb</th>\n",
              "      <th>jan</th>\n",
              "      <th>jul</th>\n",
              "      <th>jun</th>\n",
              "      <th>mar</th>\n",
              "      <th>may</th>\n",
              "      <th>nov</th>\n",
              "      <th>oct</th>\n",
              "      <th>sep</th>\n",
              "      <th>failure</th>\n",
              "      <th>other</th>\n",
              "      <th>success</th>\n",
              "      <th>unknown__</th>\n",
              "    </tr>\n",
              "  </thead>\n",
              "  <tbody>\n",
              "    <tr>\n",
              "      <th>0</th>\n",
              "      <td>0.097297</td>\n",
              "      <td>0</td>\n",
              "      <td>0.092259</td>\n",
              "      <td>1</td>\n",
              "      <td>0</td>\n",
              "      <td>0</td>\n",
              "      <td>0</td>\n",
              "      <td>0</td>\n",
              "      <td>0</td>\n",
              "      <td>0</td>\n",
              "      <td>1</td>\n",
              "      <td>0</td>\n",
              "      <td>0</td>\n",
              "      <td>0</td>\n",
              "      <td>0</td>\n",
              "      <td>0</td>\n",
              "      <td>0</td>\n",
              "      <td>0</td>\n",
              "      <td>0</td>\n",
              "      <td>1</td>\n",
              "      <td>0</td>\n",
              "      <td>0</td>\n",
              "      <td>0</td>\n",
              "      <td>1</td>\n",
              "      <td>0</td>\n",
              "      <td>0</td>\n",
              "      <td>1</td>\n",
              "      <td>1</td>\n",
              "      <td>0</td>\n",
              "      <td>0</td>\n",
              "      <td>0</td>\n",
              "      <td>1</td>\n",
              "      <td>0</td>\n",
              "      <td>0</td>\n",
              "      <td>0</td>\n",
              "      <td>0</td>\n",
              "      <td>0</td>\n",
              "      <td>0</td>\n",
              "      <td>0</td>\n",
              "      <td>0</td>\n",
              "      <td>1</td>\n",
              "      <td>0</td>\n",
              "      <td>0</td>\n",
              "      <td>0</td>\n",
              "      <td>0</td>\n",
              "      <td>0</td>\n",
              "      <td>0</td>\n",
              "      <td>1</td>\n",
              "    </tr>\n",
              "    <tr>\n",
              "      <th>1</th>\n",
              "      <td>0.081866</td>\n",
              "      <td>0</td>\n",
              "      <td>0.073067</td>\n",
              "      <td>1</td>\n",
              "      <td>0</td>\n",
              "      <td>0</td>\n",
              "      <td>0</td>\n",
              "      <td>0</td>\n",
              "      <td>0</td>\n",
              "      <td>0</td>\n",
              "      <td>0</td>\n",
              "      <td>0</td>\n",
              "      <td>0</td>\n",
              "      <td>0</td>\n",
              "      <td>0</td>\n",
              "      <td>1</td>\n",
              "      <td>0</td>\n",
              "      <td>0</td>\n",
              "      <td>0</td>\n",
              "      <td>0</td>\n",
              "      <td>1</td>\n",
              "      <td>0</td>\n",
              "      <td>1</td>\n",
              "      <td>0</td>\n",
              "      <td>0</td>\n",
              "      <td>0</td>\n",
              "      <td>1</td>\n",
              "      <td>1</td>\n",
              "      <td>0</td>\n",
              "      <td>0</td>\n",
              "      <td>0</td>\n",
              "      <td>1</td>\n",
              "      <td>0</td>\n",
              "      <td>0</td>\n",
              "      <td>0</td>\n",
              "      <td>0</td>\n",
              "      <td>0</td>\n",
              "      <td>0</td>\n",
              "      <td>0</td>\n",
              "      <td>0</td>\n",
              "      <td>1</td>\n",
              "      <td>0</td>\n",
              "      <td>0</td>\n",
              "      <td>0</td>\n",
              "      <td>0</td>\n",
              "      <td>0</td>\n",
              "      <td>0</td>\n",
              "      <td>1</td>\n",
              "    </tr>\n",
              "    <tr>\n",
              "      <th>2</th>\n",
              "      <td>0.106491</td>\n",
              "      <td>0</td>\n",
              "      <td>0.072822</td>\n",
              "      <td>1</td>\n",
              "      <td>0</td>\n",
              "      <td>0</td>\n",
              "      <td>0</td>\n",
              "      <td>0</td>\n",
              "      <td>1</td>\n",
              "      <td>0</td>\n",
              "      <td>0</td>\n",
              "      <td>0</td>\n",
              "      <td>0</td>\n",
              "      <td>0</td>\n",
              "      <td>0</td>\n",
              "      <td>0</td>\n",
              "      <td>0</td>\n",
              "      <td>0</td>\n",
              "      <td>0</td>\n",
              "      <td>1</td>\n",
              "      <td>0</td>\n",
              "      <td>0</td>\n",
              "      <td>1</td>\n",
              "      <td>0</td>\n",
              "      <td>0</td>\n",
              "      <td>0</td>\n",
              "      <td>1</td>\n",
              "      <td>0</td>\n",
              "      <td>1</td>\n",
              "      <td>0</td>\n",
              "      <td>0</td>\n",
              "      <td>1</td>\n",
              "      <td>0</td>\n",
              "      <td>0</td>\n",
              "      <td>0</td>\n",
              "      <td>0</td>\n",
              "      <td>0</td>\n",
              "      <td>0</td>\n",
              "      <td>0</td>\n",
              "      <td>0</td>\n",
              "      <td>1</td>\n",
              "      <td>0</td>\n",
              "      <td>0</td>\n",
              "      <td>0</td>\n",
              "      <td>0</td>\n",
              "      <td>0</td>\n",
              "      <td>0</td>\n",
              "      <td>1</td>\n",
              "    </tr>\n",
              "    <tr>\n",
              "      <th>3</th>\n",
              "      <td>0.103860</td>\n",
              "      <td>0</td>\n",
              "      <td>0.086476</td>\n",
              "      <td>1</td>\n",
              "      <td>0</td>\n",
              "      <td>0</td>\n",
              "      <td>0</td>\n",
              "      <td>1</td>\n",
              "      <td>0</td>\n",
              "      <td>0</td>\n",
              "      <td>0</td>\n",
              "      <td>0</td>\n",
              "      <td>0</td>\n",
              "      <td>0</td>\n",
              "      <td>0</td>\n",
              "      <td>0</td>\n",
              "      <td>0</td>\n",
              "      <td>0</td>\n",
              "      <td>0</td>\n",
              "      <td>1</td>\n",
              "      <td>0</td>\n",
              "      <td>0</td>\n",
              "      <td>0</td>\n",
              "      <td>0</td>\n",
              "      <td>1</td>\n",
              "      <td>0</td>\n",
              "      <td>1</td>\n",
              "      <td>1</td>\n",
              "      <td>0</td>\n",
              "      <td>0</td>\n",
              "      <td>0</td>\n",
              "      <td>1</td>\n",
              "      <td>0</td>\n",
              "      <td>0</td>\n",
              "      <td>0</td>\n",
              "      <td>0</td>\n",
              "      <td>0</td>\n",
              "      <td>0</td>\n",
              "      <td>0</td>\n",
              "      <td>0</td>\n",
              "      <td>1</td>\n",
              "      <td>0</td>\n",
              "      <td>0</td>\n",
              "      <td>0</td>\n",
              "      <td>0</td>\n",
              "      <td>0</td>\n",
              "      <td>0</td>\n",
              "      <td>1</td>\n",
              "    </tr>\n",
              "    <tr>\n",
              "      <th>4</th>\n",
              "      <td>0.106491</td>\n",
              "      <td>0</td>\n",
              "      <td>0.072812</td>\n",
              "      <td>1</td>\n",
              "      <td>0</td>\n",
              "      <td>0</td>\n",
              "      <td>0</td>\n",
              "      <td>0</td>\n",
              "      <td>0</td>\n",
              "      <td>0</td>\n",
              "      <td>0</td>\n",
              "      <td>0</td>\n",
              "      <td>0</td>\n",
              "      <td>0</td>\n",
              "      <td>0</td>\n",
              "      <td>0</td>\n",
              "      <td>0</td>\n",
              "      <td>1</td>\n",
              "      <td>0</td>\n",
              "      <td>0</td>\n",
              "      <td>1</td>\n",
              "      <td>0</td>\n",
              "      <td>0</td>\n",
              "      <td>0</td>\n",
              "      <td>1</td>\n",
              "      <td>1</td>\n",
              "      <td>0</td>\n",
              "      <td>1</td>\n",
              "      <td>0</td>\n",
              "      <td>0</td>\n",
              "      <td>0</td>\n",
              "      <td>1</td>\n",
              "      <td>0</td>\n",
              "      <td>0</td>\n",
              "      <td>0</td>\n",
              "      <td>0</td>\n",
              "      <td>0</td>\n",
              "      <td>0</td>\n",
              "      <td>0</td>\n",
              "      <td>0</td>\n",
              "      <td>1</td>\n",
              "      <td>0</td>\n",
              "      <td>0</td>\n",
              "      <td>0</td>\n",
              "      <td>0</td>\n",
              "      <td>0</td>\n",
              "      <td>0</td>\n",
              "      <td>1</td>\n",
              "    </tr>\n",
              "  </tbody>\n",
              "</table>\n",
              "</div>"
            ],
            "text/plain": [
              "        age  default   balance  campaign  ...  failure  other  success  unknown__\n",
              "0  0.097297        0  0.092259         1  ...        0      0        0          1\n",
              "1  0.081866        0  0.073067         1  ...        0      0        0          1\n",
              "2  0.106491        0  0.072822         1  ...        0      0        0          1\n",
              "3  0.103860        0  0.086476         1  ...        0      0        0          1\n",
              "4  0.106491        0  0.072812         1  ...        0      0        0          1\n",
              "\n",
              "[5 rows x 48 columns]"
            ]
          },
          "metadata": {
            "tags": []
          },
          "execution_count": 33
        }
      ]
    },
    {
      "cell_type": "markdown",
      "metadata": {
        "id": "cAsyHez8J_KA"
      },
      "source": [
        "**Dataset after standardization**"
      ]
    },
    {
      "cell_type": "code",
      "metadata": {
        "colab": {
          "base_uri": "https://localhost:8080/"
        },
        "id": "U4M00BOQ36u1",
        "outputId": "535b6156-370d-482c-c537-f60f82260884"
      },
      "source": [
        "#shape of our new dataset\n",
        "bank_df.shape"
      ],
      "execution_count": null,
      "outputs": [
        {
          "output_type": "execute_result",
          "data": {
            "text/plain": [
              "(45211, 48)"
            ]
          },
          "metadata": {
            "tags": []
          },
          "execution_count": 34
        }
      ]
    },
    {
      "cell_type": "code",
      "metadata": {
        "colab": {
          "base_uri": "https://localhost:8080/"
        },
        "id": "P751jXWNPSEB",
        "outputId": "a9f43404-6cd2-4890-84cd-ba4a80888020"
      },
      "source": [
        "bank_df['y'].value_counts()"
      ],
      "execution_count": null,
      "outputs": [
        {
          "output_type": "execute_result",
          "data": {
            "text/plain": [
              "0    39922\n",
              "1     5289\n",
              "Name: y, dtype: int64"
            ]
          },
          "metadata": {
            "tags": []
          },
          "execution_count": 35
        }
      ]
    },
    {
      "cell_type": "markdown",
      "metadata": {
        "id": "saQDT3PiPWID"
      },
      "source": [
        "**As we talked about this earlier, after seeing this dataset it is quite imbalance. So we really need to to get rid out of it.**"
      ]
    },
    {
      "cell_type": "code",
      "metadata": {
        "id": "HvFXmvogaq8o"
      },
      "source": [
        "# Distinguish independent and dependent variables\n",
        "X = bank_df.drop(['y'], axis=1)\n",
        "y = bank_df['y']"
      ],
      "execution_count": null,
      "outputs": []
    },
    {
      "cell_type": "code",
      "metadata": {
        "colab": {
          "base_uri": "https://localhost:8080/"
        },
        "id": "hIilXBppMM74",
        "outputId": "52328fb2-fa86-414b-ddf4-49ad211b7657"
      },
      "source": [
        "#shape of X,y\n",
        "X.shape,y.shape"
      ],
      "execution_count": null,
      "outputs": [
        {
          "output_type": "execute_result",
          "data": {
            "text/plain": [
              "((45211, 47), (45211,))"
            ]
          },
          "metadata": {
            "tags": []
          },
          "execution_count": 37
        }
      ]
    },
    {
      "cell_type": "markdown",
      "metadata": {
        "id": "Cee3obq9xNTl"
      },
      "source": [
        "**OVER SAMPLING**"
      ]
    },
    {
      "cell_type": "code",
      "metadata": {
        "id": "OrTJ07YdcTmS"
      },
      "source": [
        "#importing some library for doing over sample\n",
        "from imblearn.over_sampling import RandomOverSampler\n",
        "from imblearn.combine import SMOTETomek\n",
        "SMote= SMOTETomek(ratio=0.5)\n",
        "X_res,y_res = SMote.fit_sample(X,y)"
      ],
      "execution_count": null,
      "outputs": []
    },
    {
      "cell_type": "markdown",
      "metadata": {
        "id": "gdybVLi1QY6a"
      },
      "source": [
        "**In the above cell, to get rid out of this imbalance data we have done a Over Sampling.**"
      ]
    },
    {
      "cell_type": "code",
      "metadata": {
        "colab": {
          "base_uri": "https://localhost:8080/"
        },
        "id": "QvAr3gyGD2cV",
        "outputId": "fcd567d7-c951-44f0-f5cc-eccfb9cf1111"
      },
      "source": [
        "#Shape after over sampling\n",
        "X_res.shape,y_res.shape"
      ],
      "execution_count": null,
      "outputs": [
        {
          "output_type": "execute_result",
          "data": {
            "text/plain": [
              "((56917, 47), (56917,))"
            ]
          },
          "metadata": {
            "tags": []
          },
          "execution_count": 49
        }
      ]
    },
    {
      "cell_type": "markdown",
      "metadata": {
        "id": "p0RRVN3TxZrA"
      },
      "source": [
        "# **Models Implementation**\n",
        "**1.Logistic Regression**\n",
        "\n",
        "**2.Random Forest**\n",
        "\n",
        "**3.K-NN**\n",
        "\n",
        "**4.Decision Tree**\n",
        "\n",
        "**5.SGD Classifier** \n",
        "\n",
        "**6.Gradient Boosting Classifier**\n",
        "\n",
        "**7.XGBoost**"
      ]
    },
    {
      "cell_type": "markdown",
      "metadata": {
        "id": "ikA0rtWNz0RB"
      },
      "source": [
        "**Train-Test Split**"
      ]
    },
    {
      "cell_type": "code",
      "metadata": {
        "id": "TlyHU0RbCTOn"
      },
      "source": [
        "#Splitting the Dataset inro Train Set and Test Set\n",
        "X_train, X_test, y_train, y_test = train_test_split(X_res, y_res, test_size=0.20, random_state=42)"
      ],
      "execution_count": null,
      "outputs": []
    },
    {
      "cell_type": "markdown",
      "metadata": {
        "id": "sb29n6kpRNsU"
      },
      "source": [
        "**Splitting the data into train and test to implement various models**"
      ]
    },
    {
      "cell_type": "code",
      "metadata": {
        "id": "Bdf_RrtF7ngI"
      },
      "source": [
        "#importing some important libraries for implementing various models\n",
        "from sklearn.model_selection import train_test_split, GridSearchCV, StratifiedKFold\n",
        "from sklearn.metrics import roc_curve, roc_auc_score\n",
        "from sklearn.pipeline import Pipeline\n",
        "import matplotlib.pyplot as plt\n",
        "import seaborn as sns\n",
        "import plotly.graph_objs as go\n",
        "from tqdm import tqdm\n",
        "from sklearn.datasets import make_classification"
      ],
      "execution_count": null,
      "outputs": []
    },
    {
      "cell_type": "markdown",
      "metadata": {
        "id": "BOHAWzi00N1R"
      },
      "source": [
        "**Implementing these models with the help of Pipeline:**\n",
        "\n",
        "**Logistic Regression**\n",
        "\n",
        "**Random Forest**\n",
        "\n",
        "**K-NN**\n",
        "\n",
        "**Decision Tree**\n",
        "\n",
        "**SGD Classifier**"
      ]
    },
    {
      "cell_type": "code",
      "metadata": {
        "id": "YbX37gRo4RrL"
      },
      "source": [
        "'''Build pipline of classifiers'''\n",
        "# set all CPU\n",
        "n_jobs = -1\n",
        "# LogisticRegression\n",
        "pipe_lr = Pipeline([('lr', LogisticRegression( n_jobs=n_jobs, max_iter=500))])\n",
        "# RandomForestClassifier\n",
        "pipe_rf = Pipeline([('rf', RandomForestClassifier(random_state=0, oob_score=True, n_jobs=n_jobs))])\n",
        "# KNeighborsClassifier\n",
        "pipe_knn = Pipeline([('knn', KNeighborsClassifier(n_jobs=n_jobs))])\n",
        "# DecisionTreeClassifier\n",
        "pipe_dt = Pipeline([('dt', DecisionTreeClassifier(random_state=0, max_features='auto'))])\n",
        "# SGDClassifier\n",
        "#pipe_sgd = Pipeline([('sgd', SGDClassifier(random_state=0, n_jobs=n_jobs, max_iter=1500))])\n",
        "# XG boost Classifier\n",
        "pipe_xgb=Pipeline([('XGBC',XGBClassifier(n_estimators=500,random_state=0, n_jobs=n_jobs))])"
      ],
      "execution_count": null,
      "outputs": []
    },
    {
      "cell_type": "markdown",
      "metadata": {
        "id": "SMv5DMl_U5X6"
      },
      "source": [
        "**Using a Pipeline for easing the things**"
      ]
    },
    {
      "cell_type": "code",
      "metadata": {
        "id": "iNkilSUR7_s4"
      },
      "source": [
        "'''Set parameters for Grid Search '''\n",
        "# set number \n",
        "cv = StratifiedKFold(shuffle=True, n_splits=5, random_state=0)\n",
        "# set for LogisticRegression\n",
        "grid_params_lr = [{\n",
        "                'lr__penalty': ['l2'],\n",
        "                'lr__C': [0.3, 0.6, 0.7],\n",
        "                'lr__solver': ['sag']\n",
        "                }]\n",
        "# set for RandomForestClassifier\n",
        "grid_params_rf = [{\n",
        "                'rf__criterion': ['entropy'],\n",
        "                'rf__min_samples_leaf': [3,10],\n",
        "                'rf__max_depth': [15, 27],\n",
        "                'rf__min_samples_split': [3, 5],\n",
        "                'rf__n_estimators' : [300,400]\n",
        "                }]\n",
        "# set for KNeighborsClassifier\n",
        "grid_params_knn = [{'knn__n_neighbors': [16,17,18]}]\n",
        "# set for DecisionTreeClassifier\n",
        "grid_params_dt = [{\n",
        "                'dt__max_depth': [8, 10],\n",
        "                'dt__min_samples_leaf': [1, 3, 5, 7]\n",
        "                  }]\n",
        "# set for SGDClassifier\n",
        "grid_params_sgd = [{\n",
        "                   'sgd__loss': ['log', 'huber'],\n",
        "                    'sgd__learning_rate': ['adaptive'],\n",
        "                   'sgd__eta0': [0.001, 0.01, 0.1],\n",
        "                    'sgd__penalty': ['l1', 'l2', 'elasticnet'], \n",
        "                    'sgd__alpha':[0.1, 1, 5, 10]\n",
        "                    }]\n",
        "             "
      ],
      "execution_count": null,
      "outputs": []
    },
    {
      "cell_type": "code",
      "metadata": {
        "id": "Cw2i_vgv9nl1"
      },
      "source": [
        "'''Grid search objects'''\n",
        "# for LogisticRegression\n",
        "gs_lr = GridSearchCV(pipe_lr, param_grid=grid_params_lr,\n",
        "                     scoring='accuracy', cv=cv) \n",
        "# for RandomForestClassifier\n",
        "gs_rf = GridSearchCV(pipe_rf, param_grid=grid_params_rf,\n",
        "                     scoring='accuracy', cv=cv)\n",
        "# for KNeighborsClassifier\n",
        "gs_knn = GridSearchCV(pipe_knn, param_grid=grid_params_knn,\n",
        "                     scoring='accuracy', cv=cv)\n",
        "# for DecisionTreeClassifier\n",
        "gs_dt = GridSearchCV(pipe_dt, param_grid=grid_params_dt,\n",
        "                     scoring='accuracy', cv=cv)\n",
        "#for SGDClassifier\n",
        "gs_sgd = GridSearchCV(pipe_sgd, param_grid=grid_params_sgd,\n",
        "                    scoring='accuracy', cv=cv)"
      ],
      "execution_count": null,
      "outputs": []
    },
    {
      "cell_type": "code",
      "metadata": {
        "id": "HpCRDMlD-V9f"
      },
      "source": [
        "# models that we iterate over\n",
        "look_for = [gs_lr, gs_rf, gs_knn, gs_dt, gs_sgd]\n",
        " #dict for later use \n",
        "model_dict = {0:'Logistic_reg', 1:'RandomForest', 2:'Knn', 3:'DesionTree',4:'SGD Class'}"
      ],
      "execution_count": null,
      "outputs": []
    },
    {
      "cell_type": "code",
      "metadata": {
        "colab": {
          "base_uri": "https://localhost:8080/"
        },
        "id": "YS7UHjVb_Gyj",
        "outputId": "c4d54c64-081a-4377-e9fd-98a3bd357bd8"
      },
      "source": [
        "''' Function to iterate over models and obtain results'''\n",
        "# set empty dicts and list\n",
        "result_acc = {}\n",
        "result_auc = {}\n",
        "\n",
        "models = []\n",
        "\n",
        "for index, model in enumerate(look_for):\n",
        "        \n",
        "        print()\n",
        "        print('+++++++ Start New Model ++++++++++++++++++++++')\n",
        "        print('Estimator is {}'.format(model_dict[index]))\n",
        "        model.fit(X_train, y_train)\n",
        "        print('---------------------------------------------')\n",
        "        print('best params {}'.format(model.best_params_))\n",
        "        print('best score is {}'.format(model.best_score_))\n",
        "        auc = roc_auc_score(y_test, model.predict_proba(X_test)[:,1])\n",
        "        print('---------------------------------------------')\n",
        "        print('ROC_AUC is {} and accuracy rate is {}'.format(auc, model.score(X_test, y_test)))\n",
        "        \n",
        "        \n",
        "        print('++++++++ End Model +++++++++++++++++++++++++++')\n",
        "        print()\n",
        "        print()\n",
        "        models.append(model.best_estimator_)\n",
        "        result_acc[index] = model.best_score_\n",
        "        result_auc[index] = auc"
      ],
      "execution_count": null,
      "outputs": [
        {
          "output_type": "stream",
          "text": [
            "\n",
            "+++++++ Start New Model ++++++++++++++++++++++\n",
            "Estimator is Logistic_reg\n",
            "---------------------------------------------\n",
            "best params {'lr__C': 0.7, 'lr__penalty': 'l2', 'lr__solver': 'sag'}\n",
            "best score is 0.7844436829339315\n",
            "---------------------------------------------\n",
            "ROC_AUC is 0.7949616269553967 and accuracy rate is 0.7857142857142857\n",
            "++++++++ End Model +++++++++++++++++++++++++++\n",
            "\n",
            "\n",
            "\n",
            "+++++++ Start New Model ++++++++++++++++++++++\n",
            "Estimator is RandomForest\n",
            "---------------------------------------------\n",
            "best params {'rf__criterion': 'entropy', 'rf__max_depth': 27, 'rf__min_samples_leaf': 3, 'rf__min_samples_split': 3, 'rf__n_estimators': 400}\n",
            "best score is 0.8733565246234469\n",
            "---------------------------------------------\n",
            "ROC_AUC is 0.9482342683672562 and accuracy rate is 0.8802727784026997\n",
            "++++++++ End Model +++++++++++++++++++++++++++\n",
            "\n",
            "\n",
            "\n",
            "+++++++ Start New Model ++++++++++++++++++++++\n",
            "Estimator is Knn\n",
            "---------------------------------------------\n",
            "best params {'knn__n_neighbors': 16}\n",
            "best score is 0.7945910448285771\n",
            "---------------------------------------------\n",
            "ROC_AUC is 0.8604524925467653 and accuracy rate is 0.8032902137232846\n",
            "++++++++ End Model +++++++++++++++++++++++++++\n",
            "\n",
            "\n",
            "\n",
            "+++++++ Start New Model ++++++++++++++++++++++\n",
            "Estimator is DesionTree\n",
            "---------------------------------------------\n",
            "best params {'dt__max_depth': 10, 'dt__min_samples_leaf': 7}\n",
            "best score is 0.7968408965193707\n",
            "---------------------------------------------\n",
            "ROC_AUC is 0.814080376082148 and accuracy rate is 0.7779105736782902\n",
            "++++++++ End Model +++++++++++++++++++++++++++\n",
            "\n",
            "\n",
            "\n",
            "+++++++ Start New Model ++++++++++++++++++++++\n",
            "Estimator is SGD Class\n",
            "---------------------------------------------\n",
            "best params {'sgd__alpha': 0.1, 'sgd__eta0': 0.001, 'sgd__learning_rate': 'adaptive', 'sgd__loss': 'log', 'sgd__penalty': 'l2'}\n",
            "best score is 0.724684099674221\n",
            "---------------------------------------------\n",
            "ROC_AUC is 0.750973275413126 and accuracy rate is 0.7292604049493814\n",
            "++++++++ End Model +++++++++++++++++++++++++++\n",
            "\n",
            "\n"
          ],
          "name": "stdout"
        }
      ]
    },
    {
      "cell_type": "code",
      "metadata": {
        "colab": {
          "base_uri": "https://localhost:8080/",
          "height": 205
        },
        "id": "NfQs-c5i_sY0",
        "outputId": "f341e1a9-2d18-44ba-f452-5e6bba23c474"
      },
      "source": [
        "\"\"\" Model performance during Grid Search \"\"\"\n",
        "pd.DataFrame(list(zip(model_dict.values(), result_acc.values(), result_auc.values())), \\\n",
        "                  columns=['Model', 'Accuracy_rate','Roc_auc_rate',])"
      ],
      "execution_count": null,
      "outputs": [
        {
          "output_type": "execute_result",
          "data": {
            "text/html": [
              "<div>\n",
              "<style scoped>\n",
              "    .dataframe tbody tr th:only-of-type {\n",
              "        vertical-align: middle;\n",
              "    }\n",
              "\n",
              "    .dataframe tbody tr th {\n",
              "        vertical-align: top;\n",
              "    }\n",
              "\n",
              "    .dataframe thead th {\n",
              "        text-align: right;\n",
              "    }\n",
              "</style>\n",
              "<table border=\"1\" class=\"dataframe\">\n",
              "  <thead>\n",
              "    <tr style=\"text-align: right;\">\n",
              "      <th></th>\n",
              "      <th>Model</th>\n",
              "      <th>Accuracy_rate</th>\n",
              "      <th>Roc_auc_rate</th>\n",
              "    </tr>\n",
              "  </thead>\n",
              "  <tbody>\n",
              "    <tr>\n",
              "      <th>0</th>\n",
              "      <td>Logistic_reg</td>\n",
              "      <td>0.784444</td>\n",
              "      <td>0.794962</td>\n",
              "    </tr>\n",
              "    <tr>\n",
              "      <th>1</th>\n",
              "      <td>RandomForest</td>\n",
              "      <td>0.873357</td>\n",
              "      <td>0.948234</td>\n",
              "    </tr>\n",
              "    <tr>\n",
              "      <th>2</th>\n",
              "      <td>Knn</td>\n",
              "      <td>0.794591</td>\n",
              "      <td>0.860452</td>\n",
              "    </tr>\n",
              "    <tr>\n",
              "      <th>3</th>\n",
              "      <td>DesionTree</td>\n",
              "      <td>0.796841</td>\n",
              "      <td>0.814080</td>\n",
              "    </tr>\n",
              "    <tr>\n",
              "      <th>4</th>\n",
              "      <td>SGD Class</td>\n",
              "      <td>0.724684</td>\n",
              "      <td>0.750973</td>\n",
              "    </tr>\n",
              "  </tbody>\n",
              "</table>\n",
              "</div>"
            ],
            "text/plain": [
              "          Model  Accuracy_rate  Roc_auc_rate\n",
              "0  Logistic_reg       0.784444      0.794962\n",
              "1  RandomForest       0.873357      0.948234\n",
              "2           Knn       0.794591      0.860452\n",
              "3    DesionTree       0.796841      0.814080\n",
              "4     SGD Class       0.724684      0.750973"
            ]
          },
          "metadata": {
            "tags": []
          },
          "execution_count": 133
        }
      ]
    },
    {
      "cell_type": "markdown",
      "metadata": {
        "id": "LGvdc-_WSaUx"
      },
      "source": [
        "**Performance of some various models in terms of Accuracy_rate and Roc_auc_rate**\n",
        "\n",
        "**And till now RandomForest is topping the table in terms of Accuracy and AUC.**"
      ]
    },
    {
      "cell_type": "markdown",
      "metadata": {
        "id": "mB6u2v1-0xtV"
      },
      "source": [
        "**Gradient Boosting**"
      ]
    },
    {
      "cell_type": "code",
      "metadata": {
        "colab": {
          "base_uri": "https://localhost:8080/"
        },
        "id": "KOCkT_GbVxpt",
        "outputId": "ba515b6e-4baa-44c4-a018-c3df92ce257a"
      },
      "source": [
        "#Implementing GradientBoosting\n",
        "from sklearn.ensemble import GradientBoostingClassifier\n",
        "clf = GradientBoostingClassifier(n_estimators=100, learning_rate=1.0,max_depth=1, random_state=0).fit(X_train, y_train)\n",
        "tr=clf.score(X_train, y_train)\n",
        "tt=clf.score(X_test,y_test)\n",
        "y_predicted_test = model.predict(X_test)\n",
        "print('The train score is',tr)\n",
        "print('The test score is',tt)\n",
        "print(classification_report(y_test,y_predicted_test))"
      ],
      "execution_count": null,
      "outputs": [
        {
          "output_type": "stream",
          "text": [
            "The train score is 0.850718286424035\n",
            "The test score is 0.8517294713160855\n",
            "              precision    recall  f1-score   support\n",
            "\n",
            "           0       0.72      0.97      0.83      9660\n",
            "           1       0.79      0.21      0.34      4564\n",
            "\n",
            "    accuracy                           0.73     14224\n",
            "   macro avg       0.76      0.59      0.58     14224\n",
            "weighted avg       0.74      0.73      0.67     14224\n",
            "\n"
          ],
          "name": "stdout"
        }
      ]
    },
    {
      "cell_type": "markdown",
      "metadata": {
        "id": "w7Za80NqTw2t"
      },
      "source": [
        "**Gradient Boosting has done very good in terms of but has poor recall**"
      ]
    },
    {
      "cell_type": "markdown",
      "metadata": {
        "id": "bdvpZtXc06Tj"
      },
      "source": [
        "**XGBoost with RandomizedSearchCV**"
      ]
    },
    {
      "cell_type": "code",
      "metadata": {
        "colab": {
          "base_uri": "https://localhost:8080/",
          "height": 196
        },
        "id": "nXgVVTtKwlGa",
        "outputId": "844bf8ec-9ab2-4893-930a-f1ccadb0072d"
      },
      "source": [
        "#using XGBoost in RandomizedSearch to get best result\n",
        "from xgboost import XGBClassifier\n",
        "from sklearn.model_selection import StratifiedKFold\n",
        "from sklearn.model_selection import RandomizedSearchCV\n",
        "folds = 3\n",
        "param_comb = 5\n",
        "prams={\n",
        "    'learning_rate':[0.01,0.03,0.05,0.1,0.15,0.2],\n",
        "     'n_estimators':[100,200,500,1000],\n",
        "     'max_depth':[3,5,10],\n",
        "    'colsample_bytree':[0.1,0.3,0.5,1],\n",
        "    'subsample':[0.1,0.3,0.5,1]\n",
        "}    \n",
        "skf = StratifiedKFold(n_splits=folds, shuffle = True, random_state = 1001)\n",
        "\n",
        "xgb=XGBClassifier()\n",
        "\n",
        "#xgb.fit(X_train, y_train)\n",
        "random_search = RandomizedSearchCV(xgb,param_distributions= prams ,n_iter=param_comb, scoring='roc_auc', n_jobs=4, verbose=3, random_state=1001 )\n",
        "random_search.fit(X_train, y_train)\n",
        "y_probs_train = random_search.predict_proba(X_train)\n",
        "y_probs_test = random_search.predict_proba(X_test)\n",
        "y_predicted_train = random_search.predict(X_train)\n",
        "y_predicted_test = random_search.predict(X_test)\n",
        "\n",
        "# keep probabilities for the positive outcome only\n",
        "y_probs_train = y_probs_train[:, 1]\n",
        "y_probs_test = y_probs_test[:, 1]\n",
        "\n",
        "# calculate AUC and Accuracy\n",
        "plt.figure(figsize=(9,7))\n",
        "train_auc = roc_auc_score(y_train, y_probs_train)\n",
        "test_auc = roc_auc_score(y_test, y_probs_test)\n",
        "train_acc = accuracy_score(y_train, y_predicted_train)\n",
        "test_acc = accuracy_score(y_test, y_predicted_test)\n",
        "print('*'*50)\n",
        "print('Train AUC: %.3f' % train_auc)\n",
        "print('Test AUC: %.3f' % test_auc)\n",
        "print('*'*50)\n",
        "print('Train Accuracy: %.3f' % train_acc)\n",
        "print('Test Accuracy: %.3f' % test_acc)\n",
        "\n"
      ],
      "execution_count": null,
      "outputs": [
        {
          "output_type": "stream",
          "text": [
            "Fitting 5 folds for each of 5 candidates, totalling 25 fits\n"
          ],
          "name": "stdout"
        },
        {
          "output_type": "stream",
          "text": [
            "[Parallel(n_jobs=4)]: Using backend LokyBackend with 4 concurrent workers.\n",
            "[Parallel(n_jobs=4)]: Done  25 out of  25 | elapsed: 12.3min finished\n"
          ],
          "name": "stderr"
        },
        {
          "output_type": "stream",
          "text": [
            "**************************************************\n",
            "Train AUC: 0.964\n",
            "Test AUC: 0.956\n",
            "**************************************************\n",
            "Train Accuracy: 0.925\n",
            "Test Accuracy: 0.918\n"
          ],
          "name": "stdout"
        },
        {
          "output_type": "display_data",
          "data": {
            "text/plain": [
              "<Figure size 648x504 with 0 Axes>"
            ]
          },
          "metadata": {
            "tags": []
          }
        }
      ]
    },
    {
      "cell_type": "markdown",
      "metadata": {
        "id": "g7NrmTPAVm8x"
      },
      "source": [
        "**So XGBoost with RandomizedSearch leading from the front and giving the best performance in copmarision to others**"
      ]
    },
    {
      "cell_type": "code",
      "metadata": {
        "colab": {
          "base_uri": "https://localhost:8080/"
        },
        "id": "Uw2q9JH71YLD",
        "outputId": "2bfd811f-01e5-446b-b78f-93a98aed99ee"
      },
      "source": [
        "print(classification_report(y_test,y_predicted_test))\n"
      ],
      "execution_count": null,
      "outputs": [
        {
          "output_type": "stream",
          "text": [
            "              precision    recall  f1-score   support\n",
            "\n",
            "           0       0.91      0.98      0.94      9660\n",
            "           1       0.95      0.79      0.86      4564\n",
            "\n",
            "    accuracy                           0.92     14224\n",
            "   macro avg       0.93      0.89      0.90     14224\n",
            "weighted avg       0.92      0.92      0.92     14224\n",
            "\n"
          ],
          "name": "stdout"
        }
      ]
    },
    {
      "cell_type": "markdown",
      "metadata": {
        "id": "-G1bFpa_WIpQ"
      },
      "source": [
        "**And what a great score it is giving for Accuracy, Precision, Recall,F1-Score.**"
      ]
    },
    {
      "cell_type": "markdown",
      "metadata": {
        "id": "jlmNMBt51FIY"
      },
      "source": [
        "# **Feature Importance**"
      ]
    },
    {
      "cell_type": "code",
      "metadata": {
        "colab": {
          "background_save": true
        },
        "id": "MtPZgi06Pm3B",
        "outputId": "1421bcf8-d728-4fe5-f5dd-bda930719ea1"
      },
      "source": [
        "''' Build bar plot of feature importance of the best model '''\n",
        "\n",
        "def build_feature_importance(model, X_train, y_train):\n",
        "    \n",
        "    models = RandomizedSearchCV(xgb,param_distributions= prams)\n",
        "    models.fit(X_train, y_train)\n",
        "    #feature_importances = pd.DataFrame(regressor.feature_importances_,index = dataset.columns,columns=['importance']).sort_values('importance',ascending=False)\n",
        "\n",
        "    data = pd.DataFrame(models.best_estimator_.feature_importances_, columns=['feature'])\n",
        "    data = data.sort_values(by='feature', ascending=False).reset_index()\n",
        "    plt.figure(figsize=[6,6])\n",
        "    sns.barplot(x='index', y='feature', data=data[:20], palette=\"Blues_r\")\n",
        "    plt.title('Feature inportance of XGBoost after Grid Search')\n",
        "    plt.xticks(rotation=45)\n",
        "    plt.show();\n",
        "    \n",
        "build_feature_importance(random_search, X_train, y_train)"
      ],
      "execution_count": null,
      "outputs": [
        {
          "output_type": "display_data",
          "data": {
            "image/png": "[encoded data removed]",
            "text/plain": [
              "<Figure size 432x432 with 1 Axes>"
            ]
          },
          "metadata": {
            "tags": []
          }
        }
      ]
    },
    {
      "cell_type": "code",
      "metadata": {
        "colab": {
          "base_uri": "https://localhost:8080/"
        },
        "id": "R5_aKVVvqAb2",
        "outputId": "a609e7c8-27fe-4a5a-8cfa-ac140190c151"
      },
      "source": [
        "print(X.columns[45])\n",
        "print(X.columns[38])\n",
        "print(X.columns[28])\n",
        "print(X.columns[30])\n"
      ],
      "execution_count": null,
      "outputs": [
        {
          "output_type": "stream",
          "text": [
            "success\n",
            "mar\n",
            "cellular\n",
            "unknown_\n"
          ],
          "name": "stdout"
        }
      ]
    },
    {
      "cell_type": "markdown",
      "metadata": {
        "id": "uVcpqZk9Wgne"
      },
      "source": [
        "**So after implementing XGboost we can say the most important features that we should focus more on is poutcome(Success) and cellular type clients.**"
      ]
    },
    {
      "cell_type": "markdown",
      "metadata": {
        "id": "h252_MMe1RRa"
      },
      "source": [
        "# **Model Comparision**"
      ]
    },
    {
      "cell_type": "code",
      "metadata": {
        "id": "TOTpKMMM34uT"
      },
      "source": [
        "score_dict = {'Model':['Logistic_Reg','RandomForest','Knn','DecisionTree','SGD_Class','Grad_Boost','XGBoost'], 'Train_Accuracy':[0.784443,0.873356,0.794591,0.796840,0.724684,0.850718,0.927457],'Test_Accuracy':[0.784444,0.873357,0.794591,0.796841,0.724684, 0.851729,0.921561],'AUC_Score':[0.794962,0.948234,0.860452,0.814080,0.750973,0.907564,0.956543]} "
      ],
      "execution_count": null,
      "outputs": []
    },
    {
      "cell_type": "code",
      "metadata": {
        "colab": {
          "base_uri": "https://localhost:8080/",
          "height": 267
        },
        "id": "LlOCVXoF6DM0",
        "outputId": "0ca05b92-0193-4a88-e943-7e80199e7f0b"
      },
      "source": [
        "score_df = pd.DataFrame(score_dict) \n",
        "score_df"
      ],
      "execution_count": null,
      "outputs": [
        {
          "output_type": "execute_result",
          "data": {
            "text/html": [
              "<div>\n",
              "<style scoped>\n",
              "    .dataframe tbody tr th:only-of-type {\n",
              "        vertical-align: middle;\n",
              "    }\n",
              "\n",
              "    .dataframe tbody tr th {\n",
              "        vertical-align: top;\n",
              "    }\n",
              "\n",
              "    .dataframe thead th {\n",
              "        text-align: right;\n",
              "    }\n",
              "</style>\n",
              "<table border=\"1\" class=\"dataframe\">\n",
              "  <thead>\n",
              "    <tr style=\"text-align: right;\">\n",
              "      <th></th>\n",
              "      <th>Model</th>\n",
              "      <th>Train_Accuracy</th>\n",
              "      <th>Test_Accuracy</th>\n",
              "      <th>AUC_Score</th>\n",
              "    </tr>\n",
              "  </thead>\n",
              "  <tbody>\n",
              "    <tr>\n",
              "      <th>0</th>\n",
              "      <td>Logistic_Reg</td>\n",
              "      <td>0.784443</td>\n",
              "      <td>0.784444</td>\n",
              "      <td>0.794962</td>\n",
              "    </tr>\n",
              "    <tr>\n",
              "      <th>1</th>\n",
              "      <td>RandomForest</td>\n",
              "      <td>0.873356</td>\n",
              "      <td>0.873357</td>\n",
              "      <td>0.948234</td>\n",
              "    </tr>\n",
              "    <tr>\n",
              "      <th>2</th>\n",
              "      <td>Knn</td>\n",
              "      <td>0.794591</td>\n",
              "      <td>0.794591</td>\n",
              "      <td>0.860452</td>\n",
              "    </tr>\n",
              "    <tr>\n",
              "      <th>3</th>\n",
              "      <td>DecisionTree</td>\n",
              "      <td>0.796840</td>\n",
              "      <td>0.796841</td>\n",
              "      <td>0.814080</td>\n",
              "    </tr>\n",
              "    <tr>\n",
              "      <th>4</th>\n",
              "      <td>SGD_Class</td>\n",
              "      <td>0.724684</td>\n",
              "      <td>0.724684</td>\n",
              "      <td>0.750973</td>\n",
              "    </tr>\n",
              "    <tr>\n",
              "      <th>5</th>\n",
              "      <td>Grad_Boost</td>\n",
              "      <td>0.850718</td>\n",
              "      <td>0.851729</td>\n",
              "      <td>0.907564</td>\n",
              "    </tr>\n",
              "    <tr>\n",
              "      <th>6</th>\n",
              "      <td>XGBoost</td>\n",
              "      <td>0.927457</td>\n",
              "      <td>0.921561</td>\n",
              "      <td>0.956543</td>\n",
              "    </tr>\n",
              "  </tbody>\n",
              "</table>\n",
              "</div>"
            ],
            "text/plain": [
              "          Model  Train_Accuracy  Test_Accuracy  AUC_Score\n",
              "0  Logistic_Reg        0.784443       0.784444   0.794962\n",
              "1  RandomForest        0.873356       0.873357   0.948234\n",
              "2           Knn        0.794591       0.794591   0.860452\n",
              "3  DecisionTree        0.796840       0.796841   0.814080\n",
              "4     SGD_Class        0.724684       0.724684   0.750973\n",
              "5    Grad_Boost        0.850718       0.851729   0.907564\n",
              "6       XGBoost        0.927457       0.921561   0.956543"
            ]
          },
          "metadata": {
            "tags": []
          },
          "execution_count": 4
        }
      ]
    },
    {
      "cell_type": "markdown",
      "metadata": {
        "id": "Euv6ikLk1cPP"
      },
      "source": [
        "# **Score comparision of different models**"
      ]
    },
    {
      "cell_type": "markdown",
      "metadata": {
        "id": "cf-4Pk3meyC_"
      },
      "source": [
        "**MODEL** --------------------------**ACCURACY**--------**BIAS**------------   **VARIANCE**\n",
        "\n",
        "**1.Logistic Regression---NOT GOOD-----HIGH-------------- LOW** \n",
        "\n",
        "**2.Random Forest----------   GOOD------- LITTLE------------- LOW**\n",
        "\n",
        "**3.K-NN --------------------NOT GOOD---- HIGH--------------   LOW**\n",
        "\n",
        "**4.Decision Tree-----------NOT GOOD----    HIGH--------------  LOW**\n",
        "\n",
        "**5.SGDC  ----------------------POOR----   VERY HIGH----------  LOW**\n",
        "\n",
        "**6.Gradient Boosting---------  GOOD   ------LOW --------------  LOW**\n",
        "\n",
        "**7.XGBoost  ----------------VERY GOOD--  VERY LOW---------  LOW**\n",
        "\n",
        "\n",
        "\n",
        "\n",
        "\n",
        "\n",
        "\n",
        "\n"
      ]
    },
    {
      "cell_type": "markdown",
      "metadata": {
        "id": "extXobtt1lP0"
      },
      "source": [
        "# **XGBoost Classifier is the best model to implement with low Bias and low Variance**"
      ]
    },
    {
      "cell_type": "markdown",
      "metadata": {
        "id": "YidNGMKrDcYL"
      },
      "source": [
        "# **CONCLUSION** \n",
        "**The most important attributes that should be focussed is** \n",
        "\n",
        "**1.poutcome: outcome of the previous marketing campaign in which success was made.**\n",
        "                                                                             **So basically those clients who had taken the product in the last campaign should be focussed more as they have high probability of taking term deposit.**\n",
        "\n",
        "**2.Those who have Cellurar contact communication type are in very high probability of taking term deposit.**\n",
        "\n",
        "**3.Most of the folks who have taken the term deposit had been talked last time in month of March,which is not making sense techniqually.But we can say that it may be due to March month is last month of financial year.**\n",
        "\n",
        "**4.XGBoost is showing the best Accuracy,Precision,Recall and very good Train and Test score with Low BIAS and Low VARIANCE.**"
      ]
    },
    {
      "cell_type": "markdown",
      "metadata": {
        "id": "3PV7sP4oIB4y"
      },
      "source": [
        ""
      ]
    },
    {
      "cell_type": "markdown",
      "metadata": {
        "id": "PRGp6r2WIBsC"
      },
      "source": [
        "# **HOPE IT HELPS**   \n",
        "#             ***THANKYOU***"
      ]
    }
  ]
}